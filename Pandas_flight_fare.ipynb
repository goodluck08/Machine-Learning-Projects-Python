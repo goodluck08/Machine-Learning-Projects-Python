{
 "cells": [
  {
   "cell_type": "code",
   "execution_count": 1,
   "metadata": {},
   "outputs": [],
   "source": [
    "import numpy as np\n",
    "import pandas as pd\n"
   ]
  },
  {
   "cell_type": "code",
   "execution_count": 3,
   "metadata": {},
   "outputs": [],
   "source": [
    "df = pd.read_csv(r\"C:\\Users\\itspark\\Documents\\Analytics\\dataset/flight_data.csv\")"
   ]
  },
  {
   "cell_type": "code",
   "execution_count": 4,
   "metadata": {},
   "outputs": [
    {
     "data": {
      "text/html": [
       "<div>\n",
       "<style scoped>\n",
       "    .dataframe tbody tr th:only-of-type {\n",
       "        vertical-align: middle;\n",
       "    }\n",
       "\n",
       "    .dataframe tbody tr th {\n",
       "        vertical-align: top;\n",
       "    }\n",
       "\n",
       "    .dataframe thead th {\n",
       "        text-align: right;\n",
       "    }\n",
       "</style>\n",
       "<table border=\"1\" class=\"dataframe\">\n",
       "  <thead>\n",
       "    <tr style=\"text-align: right;\">\n",
       "      <th></th>\n",
       "      <th>Airline</th>\n",
       "      <th>Date_of_Journey</th>\n",
       "      <th>Source</th>\n",
       "      <th>Destination</th>\n",
       "      <th>Route</th>\n",
       "      <th>Dep_Time</th>\n",
       "      <th>Arrival_Time</th>\n",
       "      <th>Duration</th>\n",
       "      <th>Total_Stops</th>\n",
       "      <th>Additional_Info</th>\n",
       "      <th>Price</th>\n",
       "    </tr>\n",
       "  </thead>\n",
       "  <tbody>\n",
       "    <tr>\n",
       "      <td>0</td>\n",
       "      <td>IndiGo</td>\n",
       "      <td>24/03/2019</td>\n",
       "      <td>Banglore</td>\n",
       "      <td>New Delhi</td>\n",
       "      <td>BLR ? DEL</td>\n",
       "      <td>22:20</td>\n",
       "      <td>01:10 22 Mar</td>\n",
       "      <td>2h 50m</td>\n",
       "      <td>non-stop</td>\n",
       "      <td>No info</td>\n",
       "      <td>3897</td>\n",
       "    </tr>\n",
       "    <tr>\n",
       "      <td>1</td>\n",
       "      <td>Air India</td>\n",
       "      <td>1/05/2019</td>\n",
       "      <td>Kolkata</td>\n",
       "      <td>Banglore</td>\n",
       "      <td>CCU ? IXR ? BBI ? BLR</td>\n",
       "      <td>05:50</td>\n",
       "      <td>13:15</td>\n",
       "      <td>7h 25m</td>\n",
       "      <td>2 stops</td>\n",
       "      <td>No info</td>\n",
       "      <td>7662</td>\n",
       "    </tr>\n",
       "    <tr>\n",
       "      <td>2</td>\n",
       "      <td>Jet Airways</td>\n",
       "      <td>9/06/2019</td>\n",
       "      <td>Delhi</td>\n",
       "      <td>Cochin</td>\n",
       "      <td>DEL ? LKO ? BOM ? COK</td>\n",
       "      <td>09:25</td>\n",
       "      <td>04:25 10 Jun</td>\n",
       "      <td>19h</td>\n",
       "      <td>2 stops</td>\n",
       "      <td>No info</td>\n",
       "      <td>13882</td>\n",
       "    </tr>\n",
       "    <tr>\n",
       "      <td>3</td>\n",
       "      <td>IndiGo</td>\n",
       "      <td>12/05/2019</td>\n",
       "      <td>Kolkata</td>\n",
       "      <td>Banglore</td>\n",
       "      <td>CCU ? NAG ? BLR</td>\n",
       "      <td>18:05</td>\n",
       "      <td>23:30</td>\n",
       "      <td>5h 25m</td>\n",
       "      <td>1 stop</td>\n",
       "      <td>No info</td>\n",
       "      <td>6218</td>\n",
       "    </tr>\n",
       "    <tr>\n",
       "      <td>4</td>\n",
       "      <td>IndiGo</td>\n",
       "      <td>01/03/2019</td>\n",
       "      <td>Banglore</td>\n",
       "      <td>New Delhi</td>\n",
       "      <td>BLR ? NAG ? DEL</td>\n",
       "      <td>16:50</td>\n",
       "      <td>21:35</td>\n",
       "      <td>4h 45m</td>\n",
       "      <td>1 stop</td>\n",
       "      <td>No info</td>\n",
       "      <td>13302</td>\n",
       "    </tr>\n",
       "    <tr>\n",
       "      <td>...</td>\n",
       "      <td>...</td>\n",
       "      <td>...</td>\n",
       "      <td>...</td>\n",
       "      <td>...</td>\n",
       "      <td>...</td>\n",
       "      <td>...</td>\n",
       "      <td>...</td>\n",
       "      <td>...</td>\n",
       "      <td>...</td>\n",
       "      <td>...</td>\n",
       "      <td>...</td>\n",
       "    </tr>\n",
       "    <tr>\n",
       "      <td>10678</td>\n",
       "      <td>Air Asia</td>\n",
       "      <td>9/04/2019</td>\n",
       "      <td>Kolkata</td>\n",
       "      <td>Banglore</td>\n",
       "      <td>CCU ? BLR</td>\n",
       "      <td>19:55</td>\n",
       "      <td>22:25</td>\n",
       "      <td>2h 30m</td>\n",
       "      <td>non-stop</td>\n",
       "      <td>No info</td>\n",
       "      <td>4107</td>\n",
       "    </tr>\n",
       "    <tr>\n",
       "      <td>10679</td>\n",
       "      <td>Air India</td>\n",
       "      <td>27/04/2019</td>\n",
       "      <td>Kolkata</td>\n",
       "      <td>Banglore</td>\n",
       "      <td>CCU ? BLR</td>\n",
       "      <td>20:45</td>\n",
       "      <td>23:20</td>\n",
       "      <td>2h 35m</td>\n",
       "      <td>non-stop</td>\n",
       "      <td>No info</td>\n",
       "      <td>4145</td>\n",
       "    </tr>\n",
       "    <tr>\n",
       "      <td>10680</td>\n",
       "      <td>Jet Airways</td>\n",
       "      <td>27/04/2019</td>\n",
       "      <td>Banglore</td>\n",
       "      <td>Delhi</td>\n",
       "      <td>BLR ? DEL</td>\n",
       "      <td>08:20</td>\n",
       "      <td>11:20</td>\n",
       "      <td>3h</td>\n",
       "      <td>non-stop</td>\n",
       "      <td>No info</td>\n",
       "      <td>7229</td>\n",
       "    </tr>\n",
       "    <tr>\n",
       "      <td>10681</td>\n",
       "      <td>Vistara</td>\n",
       "      <td>01/03/2019</td>\n",
       "      <td>Banglore</td>\n",
       "      <td>New Delhi</td>\n",
       "      <td>BLR ? DEL</td>\n",
       "      <td>11:30</td>\n",
       "      <td>14:10</td>\n",
       "      <td>2h 40m</td>\n",
       "      <td>non-stop</td>\n",
       "      <td>No info</td>\n",
       "      <td>12648</td>\n",
       "    </tr>\n",
       "    <tr>\n",
       "      <td>10682</td>\n",
       "      <td>Air India</td>\n",
       "      <td>9/05/2019</td>\n",
       "      <td>Delhi</td>\n",
       "      <td>Cochin</td>\n",
       "      <td>DEL ? GOI ? BOM ? COK</td>\n",
       "      <td>10:55</td>\n",
       "      <td>19:15</td>\n",
       "      <td>8h 20m</td>\n",
       "      <td>2 stops</td>\n",
       "      <td>No info</td>\n",
       "      <td>11753</td>\n",
       "    </tr>\n",
       "  </tbody>\n",
       "</table>\n",
       "<p>10683 rows × 11 columns</p>\n",
       "</div>"
      ],
      "text/plain": [
       "           Airline Date_of_Journey    Source Destination  \\\n",
       "0           IndiGo      24/03/2019  Banglore   New Delhi   \n",
       "1        Air India       1/05/2019   Kolkata    Banglore   \n",
       "2      Jet Airways       9/06/2019     Delhi      Cochin   \n",
       "3           IndiGo      12/05/2019   Kolkata    Banglore   \n",
       "4           IndiGo      01/03/2019  Banglore   New Delhi   \n",
       "...            ...             ...       ...         ...   \n",
       "10678     Air Asia       9/04/2019   Kolkata    Banglore   \n",
       "10679    Air India      27/04/2019   Kolkata    Banglore   \n",
       "10680  Jet Airways      27/04/2019  Banglore       Delhi   \n",
       "10681      Vistara      01/03/2019  Banglore   New Delhi   \n",
       "10682    Air India       9/05/2019     Delhi      Cochin   \n",
       "\n",
       "                       Route Dep_Time  Arrival_Time Duration Total_Stops  \\\n",
       "0                  BLR ? DEL    22:20  01:10 22 Mar   2h 50m    non-stop   \n",
       "1      CCU ? IXR ? BBI ? BLR    05:50         13:15   7h 25m     2 stops   \n",
       "2      DEL ? LKO ? BOM ? COK    09:25  04:25 10 Jun      19h     2 stops   \n",
       "3            CCU ? NAG ? BLR    18:05         23:30   5h 25m      1 stop   \n",
       "4            BLR ? NAG ? DEL    16:50         21:35   4h 45m      1 stop   \n",
       "...                      ...      ...           ...      ...         ...   \n",
       "10678              CCU ? BLR    19:55         22:25   2h 30m    non-stop   \n",
       "10679              CCU ? BLR    20:45         23:20   2h 35m    non-stop   \n",
       "10680              BLR ? DEL    08:20         11:20       3h    non-stop   \n",
       "10681              BLR ? DEL    11:30         14:10   2h 40m    non-stop   \n",
       "10682  DEL ? GOI ? BOM ? COK    10:55         19:15   8h 20m     2 stops   \n",
       "\n",
       "      Additional_Info  Price  \n",
       "0             No info   3897  \n",
       "1             No info   7662  \n",
       "2             No info  13882  \n",
       "3             No info   6218  \n",
       "4             No info  13302  \n",
       "...               ...    ...  \n",
       "10678         No info   4107  \n",
       "10679         No info   4145  \n",
       "10680         No info   7229  \n",
       "10681         No info  12648  \n",
       "10682         No info  11753  \n",
       "\n",
       "[10683 rows x 11 columns]"
      ]
     },
     "execution_count": 4,
     "metadata": {},
     "output_type": "execute_result"
    }
   ],
   "source": [
    "df"
   ]
  },
  {
   "cell_type": "code",
   "execution_count": 7,
   "metadata": {},
   "outputs": [
    {
     "data": {
      "text/plain": [
       "Airline            0\n",
       "Date_of_Journey    0\n",
       "Source             0\n",
       "Destination        0\n",
       "Route              0\n",
       "Dep_Time           0\n",
       "Arrival_Time       0\n",
       "Duration           0\n",
       "Total_Stops        0\n",
       "Additional_Info    0\n",
       "Price              0\n",
       "dtype: int64"
      ]
     },
     "execution_count": 7,
     "metadata": {},
     "output_type": "execute_result"
    }
   ],
   "source": [
    "df.isnull().sum()"
   ]
  },
  {
   "cell_type": "code",
   "execution_count": 6,
   "metadata": {},
   "outputs": [],
   "source": [
    "df.dropna(inplace=True)"
   ]
  },
  {
   "cell_type": "code",
   "execution_count": 8,
   "metadata": {},
   "outputs": [
    {
     "name": "stdout",
     "output_type": "stream",
     "text": [
      "<class 'pandas.core.frame.DataFrame'>\n",
      "Int64Index: 10682 entries, 0 to 10682\n",
      "Data columns (total 11 columns):\n",
      "Airline            10682 non-null object\n",
      "Date_of_Journey    10682 non-null object\n",
      "Source             10682 non-null object\n",
      "Destination        10682 non-null object\n",
      "Route              10682 non-null object\n",
      "Dep_Time           10682 non-null object\n",
      "Arrival_Time       10682 non-null object\n",
      "Duration           10682 non-null object\n",
      "Total_Stops        10682 non-null object\n",
      "Additional_Info    10682 non-null object\n",
      "Price              10682 non-null int64\n",
      "dtypes: int64(1), object(10)\n",
      "memory usage: 1001.4+ KB\n"
     ]
    }
   ],
   "source": [
    "df.info()"
   ]
  },
  {
   "cell_type": "markdown",
   "metadata": {},
   "source": [
    "# Let's do EDA"
   ]
  },
  {
   "cell_type": "code",
   "execution_count": 9,
   "metadata": {},
   "outputs": [],
   "source": [
    "## Now we'll replace the Date_of_Journey column with separate journey day and journey month\n",
    "\n",
    "df['Journey_day'] = pd.to_datetime(df.Date_of_Journey, format = '%d/%m/%Y').dt.day\n",
    "df['Journey_month'] = pd.to_datetime(df.Date_of_Journey, format = '%d/%m/%Y').dt.month"
   ]
  },
  {
   "cell_type": "code",
   "execution_count": 10,
   "metadata": {},
   "outputs": [],
   "source": [
    "## Using Arrival Time creating new column for arrival hour and arrival min\n",
    "\n",
    "df['Arrival_hour'] = pd.to_datetime(df.Arrival_Time).dt.hour\n",
    "df['Arrival_min'] = pd.to_datetime(df.Arrival_Time).dt.minute"
   ]
  },
  {
   "cell_type": "code",
   "execution_count": 11,
   "metadata": {},
   "outputs": [
    {
     "data": {
      "text/html": [
       "<div>\n",
       "<style scoped>\n",
       "    .dataframe tbody tr th:only-of-type {\n",
       "        vertical-align: middle;\n",
       "    }\n",
       "\n",
       "    .dataframe tbody tr th {\n",
       "        vertical-align: top;\n",
       "    }\n",
       "\n",
       "    .dataframe thead th {\n",
       "        text-align: right;\n",
       "    }\n",
       "</style>\n",
       "<table border=\"1\" class=\"dataframe\">\n",
       "  <thead>\n",
       "    <tr style=\"text-align: right;\">\n",
       "      <th></th>\n",
       "      <th>Airline</th>\n",
       "      <th>Date_of_Journey</th>\n",
       "      <th>Source</th>\n",
       "      <th>Destination</th>\n",
       "      <th>Route</th>\n",
       "      <th>Dep_Time</th>\n",
       "      <th>Arrival_Time</th>\n",
       "      <th>Duration</th>\n",
       "      <th>Total_Stops</th>\n",
       "      <th>Additional_Info</th>\n",
       "      <th>Price</th>\n",
       "      <th>Journey_day</th>\n",
       "      <th>Journey_month</th>\n",
       "      <th>Arrival_hour</th>\n",
       "      <th>Arrival_min</th>\n",
       "    </tr>\n",
       "  </thead>\n",
       "  <tbody>\n",
       "    <tr>\n",
       "      <td>0</td>\n",
       "      <td>IndiGo</td>\n",
       "      <td>24/03/2019</td>\n",
       "      <td>Banglore</td>\n",
       "      <td>New Delhi</td>\n",
       "      <td>BLR ? DEL</td>\n",
       "      <td>22:20</td>\n",
       "      <td>01:10 22 Mar</td>\n",
       "      <td>2h 50m</td>\n",
       "      <td>non-stop</td>\n",
       "      <td>No info</td>\n",
       "      <td>3897</td>\n",
       "      <td>24</td>\n",
       "      <td>3</td>\n",
       "      <td>1</td>\n",
       "      <td>10</td>\n",
       "    </tr>\n",
       "    <tr>\n",
       "      <td>1</td>\n",
       "      <td>Air India</td>\n",
       "      <td>1/05/2019</td>\n",
       "      <td>Kolkata</td>\n",
       "      <td>Banglore</td>\n",
       "      <td>CCU ? IXR ? BBI ? BLR</td>\n",
       "      <td>05:50</td>\n",
       "      <td>13:15</td>\n",
       "      <td>7h 25m</td>\n",
       "      <td>2 stops</td>\n",
       "      <td>No info</td>\n",
       "      <td>7662</td>\n",
       "      <td>1</td>\n",
       "      <td>5</td>\n",
       "      <td>13</td>\n",
       "      <td>15</td>\n",
       "    </tr>\n",
       "    <tr>\n",
       "      <td>2</td>\n",
       "      <td>Jet Airways</td>\n",
       "      <td>9/06/2019</td>\n",
       "      <td>Delhi</td>\n",
       "      <td>Cochin</td>\n",
       "      <td>DEL ? LKO ? BOM ? COK</td>\n",
       "      <td>09:25</td>\n",
       "      <td>04:25 10 Jun</td>\n",
       "      <td>19h</td>\n",
       "      <td>2 stops</td>\n",
       "      <td>No info</td>\n",
       "      <td>13882</td>\n",
       "      <td>9</td>\n",
       "      <td>6</td>\n",
       "      <td>4</td>\n",
       "      <td>25</td>\n",
       "    </tr>\n",
       "    <tr>\n",
       "      <td>3</td>\n",
       "      <td>IndiGo</td>\n",
       "      <td>12/05/2019</td>\n",
       "      <td>Kolkata</td>\n",
       "      <td>Banglore</td>\n",
       "      <td>CCU ? NAG ? BLR</td>\n",
       "      <td>18:05</td>\n",
       "      <td>23:30</td>\n",
       "      <td>5h 25m</td>\n",
       "      <td>1 stop</td>\n",
       "      <td>No info</td>\n",
       "      <td>6218</td>\n",
       "      <td>12</td>\n",
       "      <td>5</td>\n",
       "      <td>23</td>\n",
       "      <td>30</td>\n",
       "    </tr>\n",
       "    <tr>\n",
       "      <td>4</td>\n",
       "      <td>IndiGo</td>\n",
       "      <td>01/03/2019</td>\n",
       "      <td>Banglore</td>\n",
       "      <td>New Delhi</td>\n",
       "      <td>BLR ? NAG ? DEL</td>\n",
       "      <td>16:50</td>\n",
       "      <td>21:35</td>\n",
       "      <td>4h 45m</td>\n",
       "      <td>1 stop</td>\n",
       "      <td>No info</td>\n",
       "      <td>13302</td>\n",
       "      <td>1</td>\n",
       "      <td>3</td>\n",
       "      <td>21</td>\n",
       "      <td>35</td>\n",
       "    </tr>\n",
       "  </tbody>\n",
       "</table>\n",
       "</div>"
      ],
      "text/plain": [
       "       Airline Date_of_Journey    Source Destination                  Route  \\\n",
       "0       IndiGo      24/03/2019  Banglore   New Delhi              BLR ? DEL   \n",
       "1    Air India       1/05/2019   Kolkata    Banglore  CCU ? IXR ? BBI ? BLR   \n",
       "2  Jet Airways       9/06/2019     Delhi      Cochin  DEL ? LKO ? BOM ? COK   \n",
       "3       IndiGo      12/05/2019   Kolkata    Banglore        CCU ? NAG ? BLR   \n",
       "4       IndiGo      01/03/2019  Banglore   New Delhi        BLR ? NAG ? DEL   \n",
       "\n",
       "  Dep_Time  Arrival_Time Duration Total_Stops Additional_Info  Price  \\\n",
       "0    22:20  01:10 22 Mar   2h 50m    non-stop         No info   3897   \n",
       "1    05:50         13:15   7h 25m     2 stops         No info   7662   \n",
       "2    09:25  04:25 10 Jun      19h     2 stops         No info  13882   \n",
       "3    18:05         23:30   5h 25m      1 stop         No info   6218   \n",
       "4    16:50         21:35   4h 45m      1 stop         No info  13302   \n",
       "\n",
       "   Journey_day  Journey_month  Arrival_hour  Arrival_min  \n",
       "0           24              3             1           10  \n",
       "1            1              5            13           15  \n",
       "2            9              6             4           25  \n",
       "3           12              5            23           30  \n",
       "4            1              3            21           35  "
      ]
     },
     "execution_count": 11,
     "metadata": {},
     "output_type": "execute_result"
    }
   ],
   "source": [
    "df.head()"
   ]
  },
  {
   "cell_type": "code",
   "execution_count": 15,
   "metadata": {},
   "outputs": [],
   "source": [
    "## also create dep_hour and dep_min using Departure Time column\n",
    "\n",
    "df['Dep_hour'] = pd.to_datetime(df.Dep_Time).dt.hour\n",
    "df['Dep_min'] = pd.to_datetime(df.Dep_Time).dt.minute"
   ]
  },
  {
   "cell_type": "code",
   "execution_count": 17,
   "metadata": {},
   "outputs": [],
   "source": [
    "# now let's drop dep_time,journey_date and arrival_time column\n",
    "df.drop(columns=['Date_of_Journey','Arrival_Time','Dep_Time'],inplace=True)"
   ]
  },
  {
   "cell_type": "code",
   "execution_count": 20,
   "metadata": {},
   "outputs": [
    {
     "data": {
      "text/html": [
       "<div>\n",
       "<style scoped>\n",
       "    .dataframe tbody tr th:only-of-type {\n",
       "        vertical-align: middle;\n",
       "    }\n",
       "\n",
       "    .dataframe tbody tr th {\n",
       "        vertical-align: top;\n",
       "    }\n",
       "\n",
       "    .dataframe thead th {\n",
       "        text-align: right;\n",
       "    }\n",
       "</style>\n",
       "<table border=\"1\" class=\"dataframe\">\n",
       "  <thead>\n",
       "    <tr style=\"text-align: right;\">\n",
       "      <th></th>\n",
       "      <th>Airline</th>\n",
       "      <th>Source</th>\n",
       "      <th>Destination</th>\n",
       "      <th>Route</th>\n",
       "      <th>Duration</th>\n",
       "      <th>Total_Stops</th>\n",
       "      <th>Additional_Info</th>\n",
       "      <th>Price</th>\n",
       "      <th>Journey_day</th>\n",
       "      <th>Journey_month</th>\n",
       "      <th>Arrival_hour</th>\n",
       "      <th>Arrival_min</th>\n",
       "      <th>Dep_hour</th>\n",
       "      <th>Dep_min</th>\n",
       "    </tr>\n",
       "  </thead>\n",
       "  <tbody>\n",
       "    <tr>\n",
       "      <td>0</td>\n",
       "      <td>IndiGo</td>\n",
       "      <td>Banglore</td>\n",
       "      <td>New Delhi</td>\n",
       "      <td>BLR ? DEL</td>\n",
       "      <td>2h 50m</td>\n",
       "      <td>non-stop</td>\n",
       "      <td>No info</td>\n",
       "      <td>3897</td>\n",
       "      <td>24</td>\n",
       "      <td>3</td>\n",
       "      <td>1</td>\n",
       "      <td>10</td>\n",
       "      <td>22</td>\n",
       "      <td>20</td>\n",
       "    </tr>\n",
       "    <tr>\n",
       "      <td>1</td>\n",
       "      <td>Air India</td>\n",
       "      <td>Kolkata</td>\n",
       "      <td>Banglore</td>\n",
       "      <td>CCU ? IXR ? BBI ? BLR</td>\n",
       "      <td>7h 25m</td>\n",
       "      <td>2 stops</td>\n",
       "      <td>No info</td>\n",
       "      <td>7662</td>\n",
       "      <td>1</td>\n",
       "      <td>5</td>\n",
       "      <td>13</td>\n",
       "      <td>15</td>\n",
       "      <td>5</td>\n",
       "      <td>50</td>\n",
       "    </tr>\n",
       "    <tr>\n",
       "      <td>2</td>\n",
       "      <td>Jet Airways</td>\n",
       "      <td>Delhi</td>\n",
       "      <td>Cochin</td>\n",
       "      <td>DEL ? LKO ? BOM ? COK</td>\n",
       "      <td>19h</td>\n",
       "      <td>2 stops</td>\n",
       "      <td>No info</td>\n",
       "      <td>13882</td>\n",
       "      <td>9</td>\n",
       "      <td>6</td>\n",
       "      <td>4</td>\n",
       "      <td>25</td>\n",
       "      <td>9</td>\n",
       "      <td>25</td>\n",
       "    </tr>\n",
       "    <tr>\n",
       "      <td>3</td>\n",
       "      <td>IndiGo</td>\n",
       "      <td>Kolkata</td>\n",
       "      <td>Banglore</td>\n",
       "      <td>CCU ? NAG ? BLR</td>\n",
       "      <td>5h 25m</td>\n",
       "      <td>1 stop</td>\n",
       "      <td>No info</td>\n",
       "      <td>6218</td>\n",
       "      <td>12</td>\n",
       "      <td>5</td>\n",
       "      <td>23</td>\n",
       "      <td>30</td>\n",
       "      <td>18</td>\n",
       "      <td>5</td>\n",
       "    </tr>\n",
       "    <tr>\n",
       "      <td>4</td>\n",
       "      <td>IndiGo</td>\n",
       "      <td>Banglore</td>\n",
       "      <td>New Delhi</td>\n",
       "      <td>BLR ? NAG ? DEL</td>\n",
       "      <td>4h 45m</td>\n",
       "      <td>1 stop</td>\n",
       "      <td>No info</td>\n",
       "      <td>13302</td>\n",
       "      <td>1</td>\n",
       "      <td>3</td>\n",
       "      <td>21</td>\n",
       "      <td>35</td>\n",
       "      <td>16</td>\n",
       "      <td>50</td>\n",
       "    </tr>\n",
       "  </tbody>\n",
       "</table>\n",
       "</div>"
      ],
      "text/plain": [
       "       Airline    Source Destination                  Route Duration  \\\n",
       "0       IndiGo  Banglore   New Delhi              BLR ? DEL   2h 50m   \n",
       "1    Air India   Kolkata    Banglore  CCU ? IXR ? BBI ? BLR   7h 25m   \n",
       "2  Jet Airways     Delhi      Cochin  DEL ? LKO ? BOM ? COK      19h   \n",
       "3       IndiGo   Kolkata    Banglore        CCU ? NAG ? BLR   5h 25m   \n",
       "4       IndiGo  Banglore   New Delhi        BLR ? NAG ? DEL   4h 45m   \n",
       "\n",
       "  Total_Stops Additional_Info  Price  Journey_day  Journey_month  \\\n",
       "0    non-stop         No info   3897           24              3   \n",
       "1     2 stops         No info   7662            1              5   \n",
       "2     2 stops         No info  13882            9              6   \n",
       "3      1 stop         No info   6218           12              5   \n",
       "4      1 stop         No info  13302            1              3   \n",
       "\n",
       "   Arrival_hour  Arrival_min  Dep_hour  Dep_min  \n",
       "0             1           10        22       20  \n",
       "1            13           15         5       50  \n",
       "2             4           25         9       25  \n",
       "3            23           30        18        5  \n",
       "4            21           35        16       50  "
      ]
     },
     "execution_count": 20,
     "metadata": {},
     "output_type": "execute_result"
    }
   ],
   "source": [
    "df.head()"
   ]
  },
  {
   "cell_type": "code",
   "execution_count": 24,
   "metadata": {},
   "outputs": [
    {
     "data": {
      "text/plain": [
       "'5h 25m'"
      ]
     },
     "execution_count": 24,
     "metadata": {},
     "output_type": "execute_result"
    }
   ],
   "source": [
    "## Time taken to reach to the destination is considered as duration and the difference between \n",
    "##Departure time and Arrival Time\n",
    "\n",
    "## Converting the duration column into list\n",
    "\n",
    "duration = list(df.Duration)\n",
    "\n",
    "len(duration)\n",
    "duration[3]#just to check format"
   ]
  },
  {
   "cell_type": "code",
   "execution_count": 25,
   "metadata": {},
   "outputs": [],
   "source": [
    "for i in range(len(duration)):\n",
    "    if len(duration[i].split()) != 2:    ## we're checking for duration of one hour\n",
    "        if 'h' in duration[i]:\n",
    "            duration[i] = duration[i].strip() + \" 0m \"  ## Adding 0 minutes\n",
    "        elif 'm' in duration[i]:\n",
    "            duration[i] = \"0h {}\".format(duration[i].strip())\n",
    "            \n",
    "#create seperate list for hours and min            \n",
    "duration_hours = []\n",
    "duration_mins = []\n",
    "\n",
    "for i in range(len(duration)):\n",
    "    duration_hours.append(int(duration[i].split()[0][:-1]))   ## Here we're extracting hour from duration\n",
    "    duration_mins.append(int(duration[i].split()[1][:-1]))   ## Here we're extracting only minutes from duration"
   ]
  },
  {
   "cell_type": "code",
   "execution_count": 28,
   "metadata": {},
   "outputs": [],
   "source": [
    "# now create duration hours and min column susing above list\n",
    "df['Duration_hours'] = duration_hours\n",
    "df['Duration_mins'] = duration_mins"
   ]
  },
  {
   "cell_type": "code",
   "execution_count": 29,
   "metadata": {},
   "outputs": [
    {
     "data": {
      "text/html": [
       "<div>\n",
       "<style scoped>\n",
       "    .dataframe tbody tr th:only-of-type {\n",
       "        vertical-align: middle;\n",
       "    }\n",
       "\n",
       "    .dataframe tbody tr th {\n",
       "        vertical-align: top;\n",
       "    }\n",
       "\n",
       "    .dataframe thead th {\n",
       "        text-align: right;\n",
       "    }\n",
       "</style>\n",
       "<table border=\"1\" class=\"dataframe\">\n",
       "  <thead>\n",
       "    <tr style=\"text-align: right;\">\n",
       "      <th></th>\n",
       "      <th>Airline</th>\n",
       "      <th>Source</th>\n",
       "      <th>Destination</th>\n",
       "      <th>Route</th>\n",
       "      <th>Duration</th>\n",
       "      <th>Total_Stops</th>\n",
       "      <th>Additional_Info</th>\n",
       "      <th>Price</th>\n",
       "      <th>Journey_day</th>\n",
       "      <th>Journey_month</th>\n",
       "      <th>Arrival_hour</th>\n",
       "      <th>Arrival_min</th>\n",
       "      <th>Dep_hour</th>\n",
       "      <th>Dep_min</th>\n",
       "      <th>Duration_hours</th>\n",
       "      <th>Duration_mins</th>\n",
       "    </tr>\n",
       "  </thead>\n",
       "  <tbody>\n",
       "    <tr>\n",
       "      <td>0</td>\n",
       "      <td>IndiGo</td>\n",
       "      <td>Banglore</td>\n",
       "      <td>New Delhi</td>\n",
       "      <td>BLR ? DEL</td>\n",
       "      <td>2h 50m</td>\n",
       "      <td>non-stop</td>\n",
       "      <td>No info</td>\n",
       "      <td>3897</td>\n",
       "      <td>24</td>\n",
       "      <td>3</td>\n",
       "      <td>1</td>\n",
       "      <td>10</td>\n",
       "      <td>22</td>\n",
       "      <td>20</td>\n",
       "      <td>2</td>\n",
       "      <td>50</td>\n",
       "    </tr>\n",
       "    <tr>\n",
       "      <td>1</td>\n",
       "      <td>Air India</td>\n",
       "      <td>Kolkata</td>\n",
       "      <td>Banglore</td>\n",
       "      <td>CCU ? IXR ? BBI ? BLR</td>\n",
       "      <td>7h 25m</td>\n",
       "      <td>2 stops</td>\n",
       "      <td>No info</td>\n",
       "      <td>7662</td>\n",
       "      <td>1</td>\n",
       "      <td>5</td>\n",
       "      <td>13</td>\n",
       "      <td>15</td>\n",
       "      <td>5</td>\n",
       "      <td>50</td>\n",
       "      <td>7</td>\n",
       "      <td>25</td>\n",
       "    </tr>\n",
       "    <tr>\n",
       "      <td>2</td>\n",
       "      <td>Jet Airways</td>\n",
       "      <td>Delhi</td>\n",
       "      <td>Cochin</td>\n",
       "      <td>DEL ? LKO ? BOM ? COK</td>\n",
       "      <td>19h</td>\n",
       "      <td>2 stops</td>\n",
       "      <td>No info</td>\n",
       "      <td>13882</td>\n",
       "      <td>9</td>\n",
       "      <td>6</td>\n",
       "      <td>4</td>\n",
       "      <td>25</td>\n",
       "      <td>9</td>\n",
       "      <td>25</td>\n",
       "      <td>19</td>\n",
       "      <td>0</td>\n",
       "    </tr>\n",
       "    <tr>\n",
       "      <td>3</td>\n",
       "      <td>IndiGo</td>\n",
       "      <td>Kolkata</td>\n",
       "      <td>Banglore</td>\n",
       "      <td>CCU ? NAG ? BLR</td>\n",
       "      <td>5h 25m</td>\n",
       "      <td>1 stop</td>\n",
       "      <td>No info</td>\n",
       "      <td>6218</td>\n",
       "      <td>12</td>\n",
       "      <td>5</td>\n",
       "      <td>23</td>\n",
       "      <td>30</td>\n",
       "      <td>18</td>\n",
       "      <td>5</td>\n",
       "      <td>5</td>\n",
       "      <td>25</td>\n",
       "    </tr>\n",
       "    <tr>\n",
       "      <td>4</td>\n",
       "      <td>IndiGo</td>\n",
       "      <td>Banglore</td>\n",
       "      <td>New Delhi</td>\n",
       "      <td>BLR ? NAG ? DEL</td>\n",
       "      <td>4h 45m</td>\n",
       "      <td>1 stop</td>\n",
       "      <td>No info</td>\n",
       "      <td>13302</td>\n",
       "      <td>1</td>\n",
       "      <td>3</td>\n",
       "      <td>21</td>\n",
       "      <td>35</td>\n",
       "      <td>16</td>\n",
       "      <td>50</td>\n",
       "      <td>4</td>\n",
       "      <td>45</td>\n",
       "    </tr>\n",
       "  </tbody>\n",
       "</table>\n",
       "</div>"
      ],
      "text/plain": [
       "       Airline    Source Destination                  Route Duration  \\\n",
       "0       IndiGo  Banglore   New Delhi              BLR ? DEL   2h 50m   \n",
       "1    Air India   Kolkata    Banglore  CCU ? IXR ? BBI ? BLR   7h 25m   \n",
       "2  Jet Airways     Delhi      Cochin  DEL ? LKO ? BOM ? COK      19h   \n",
       "3       IndiGo   Kolkata    Banglore        CCU ? NAG ? BLR   5h 25m   \n",
       "4       IndiGo  Banglore   New Delhi        BLR ? NAG ? DEL   4h 45m   \n",
       "\n",
       "  Total_Stops Additional_Info  Price  Journey_day  Journey_month  \\\n",
       "0    non-stop         No info   3897           24              3   \n",
       "1     2 stops         No info   7662            1              5   \n",
       "2     2 stops         No info  13882            9              6   \n",
       "3      1 stop         No info   6218           12              5   \n",
       "4      1 stop         No info  13302            1              3   \n",
       "\n",
       "   Arrival_hour  Arrival_min  Dep_hour  Dep_min  Duration_hours  Duration_mins  \n",
       "0             1           10        22       20               2             50  \n",
       "1            13           15         5       50               7             25  \n",
       "2             4           25         9       25              19              0  \n",
       "3            23           30        18        5               5             25  \n",
       "4            21           35        16       50               4             45  "
      ]
     },
     "execution_count": 29,
     "metadata": {},
     "output_type": "execute_result"
    }
   ],
   "source": [
    "df.head()"
   ]
  },
  {
   "cell_type": "code",
   "execution_count": 30,
   "metadata": {},
   "outputs": [],
   "source": [
    "## Now we can drop duration column\n",
    "\n",
    "df.drop(['Duration'], axis = 1, inplace = True)"
   ]
  },
  {
   "cell_type": "code",
   "execution_count": 31,
   "metadata": {},
   "outputs": [
    {
     "data": {
      "text/html": [
       "<div>\n",
       "<style scoped>\n",
       "    .dataframe tbody tr th:only-of-type {\n",
       "        vertical-align: middle;\n",
       "    }\n",
       "\n",
       "    .dataframe tbody tr th {\n",
       "        vertical-align: top;\n",
       "    }\n",
       "\n",
       "    .dataframe thead th {\n",
       "        text-align: right;\n",
       "    }\n",
       "</style>\n",
       "<table border=\"1\" class=\"dataframe\">\n",
       "  <thead>\n",
       "    <tr style=\"text-align: right;\">\n",
       "      <th></th>\n",
       "      <th>Airline</th>\n",
       "      <th>Source</th>\n",
       "      <th>Destination</th>\n",
       "      <th>Route</th>\n",
       "      <th>Total_Stops</th>\n",
       "      <th>Additional_Info</th>\n",
       "      <th>Price</th>\n",
       "      <th>Journey_day</th>\n",
       "      <th>Journey_month</th>\n",
       "      <th>Arrival_hour</th>\n",
       "      <th>Arrival_min</th>\n",
       "      <th>Dep_hour</th>\n",
       "      <th>Dep_min</th>\n",
       "      <th>Duration_hours</th>\n",
       "      <th>Duration_mins</th>\n",
       "    </tr>\n",
       "  </thead>\n",
       "  <tbody>\n",
       "    <tr>\n",
       "      <td>0</td>\n",
       "      <td>IndiGo</td>\n",
       "      <td>Banglore</td>\n",
       "      <td>New Delhi</td>\n",
       "      <td>BLR ? DEL</td>\n",
       "      <td>non-stop</td>\n",
       "      <td>No info</td>\n",
       "      <td>3897</td>\n",
       "      <td>24</td>\n",
       "      <td>3</td>\n",
       "      <td>1</td>\n",
       "      <td>10</td>\n",
       "      <td>22</td>\n",
       "      <td>20</td>\n",
       "      <td>2</td>\n",
       "      <td>50</td>\n",
       "    </tr>\n",
       "    <tr>\n",
       "      <td>1</td>\n",
       "      <td>Air India</td>\n",
       "      <td>Kolkata</td>\n",
       "      <td>Banglore</td>\n",
       "      <td>CCU ? IXR ? BBI ? BLR</td>\n",
       "      <td>2 stops</td>\n",
       "      <td>No info</td>\n",
       "      <td>7662</td>\n",
       "      <td>1</td>\n",
       "      <td>5</td>\n",
       "      <td>13</td>\n",
       "      <td>15</td>\n",
       "      <td>5</td>\n",
       "      <td>50</td>\n",
       "      <td>7</td>\n",
       "      <td>25</td>\n",
       "    </tr>\n",
       "  </tbody>\n",
       "</table>\n",
       "</div>"
      ],
      "text/plain": [
       "     Airline    Source Destination                  Route Total_Stops  \\\n",
       "0     IndiGo  Banglore   New Delhi              BLR ? DEL    non-stop   \n",
       "1  Air India   Kolkata    Banglore  CCU ? IXR ? BBI ? BLR     2 stops   \n",
       "\n",
       "  Additional_Info  Price  Journey_day  Journey_month  Arrival_hour  \\\n",
       "0         No info   3897           24              3             1   \n",
       "1         No info   7662            1              5            13   \n",
       "\n",
       "   Arrival_min  Dep_hour  Dep_min  Duration_hours  Duration_mins  \n",
       "0           10        22       20               2             50  \n",
       "1           15         5       50               7             25  "
      ]
     },
     "execution_count": 31,
     "metadata": {},
     "output_type": "execute_result"
    }
   ],
   "source": [
    "df.head(2)"
   ]
  },
  {
   "cell_type": "code",
   "execution_count": 32,
   "metadata": {},
   "outputs": [
    {
     "data": {
      "text/plain": [
       "Jet Airways                          3849\n",
       "IndiGo                               2053\n",
       "Air India                            1751\n",
       "Multiple carriers                    1196\n",
       "SpiceJet                              818\n",
       "Vistara                               479\n",
       "Air Asia                              319\n",
       "GoAir                                 194\n",
       "Multiple carriers Premium economy      13\n",
       "Jet Airways Business                    6\n",
       "Vistara Premium economy                 3\n",
       "Trujet                                  1\n",
       "Name: Airline, dtype: int64"
      ]
     },
     "execution_count": 32,
     "metadata": {},
     "output_type": "execute_result"
    }
   ],
   "source": [
    "#checking Airline records\n",
    "df.Airline.value_counts()\n"
   ]
  },
  {
   "cell_type": "raw",
   "metadata": {},
   "source": [
    "Examine airline which is a categorical variable. We need to apply dimensionality reduction technique here to reduce number of airline"
   ]
  },
  {
   "cell_type": "code",
   "execution_count": 33,
   "metadata": {},
   "outputs": [
    {
     "data": {
      "text/plain": [
       "Jet Airways                          3849\n",
       "IndiGo                               2053\n",
       "Air India                            1751\n",
       "Multiple carriers                    1196\n",
       "SpiceJet                              818\n",
       "Vistara                               479\n",
       "Air Asia                              319\n",
       "GoAir                                 194\n",
       "Multiple carriers Premium economy      13\n",
       "Jet Airways Business                    6\n",
       "Vistara Premium economy                 3\n",
       "Trujet                                  1\n",
       "Name: Airline, dtype: int64"
      ]
     },
     "execution_count": 33,
     "metadata": {},
     "output_type": "execute_result"
    }
   ],
   "source": [
    "df.Airline = df.Airline.apply(lambda x: x.strip())\n",
    "airline_stats = df['Airline'].value_counts(ascending=False)\n",
    "airline_stats"
   ]
  },
  {
   "cell_type": "code",
   "execution_count": 34,
   "metadata": {},
   "outputs": [
    {
     "data": {
      "text/plain": [
       "Jet Airways Business       6\n",
       "Vistara Premium economy    3\n",
       "Trujet                     1\n",
       "Name: Airline, dtype: int64"
      ]
     },
     "execution_count": 34,
     "metadata": {},
     "output_type": "execute_result"
    }
   ],
   "source": [
    "# we may apply dimensionallity reduction\n",
    "airline_stats_less_than_10 = airline_stats[airline_stats<=10]\n",
    "airline_stats_less_than_10"
   ]
  },
  {
   "cell_type": "code",
   "execution_count": 37,
   "metadata": {},
   "outputs": [],
   "source": [
    "df.Airline = df.Airline.apply(lambda x: 'other' if x in airline_stats_less_than_10 else x)\n"
   ]
  },
  {
   "cell_type": "code",
   "execution_count": 39,
   "metadata": {},
   "outputs": [
    {
     "data": {
      "text/plain": [
       "Jet Airways                          3849\n",
       "IndiGo                               2053\n",
       "Air India                            1751\n",
       "Multiple carriers                    1196\n",
       "SpiceJet                              818\n",
       "Vistara                               479\n",
       "Air Asia                              319\n",
       "GoAir                                 194\n",
       "Multiple carriers Premium economy      13\n",
       "other                                  10\n",
       "Name: Airline, dtype: int64"
      ]
     },
     "execution_count": 39,
     "metadata": {},
     "output_type": "execute_result"
    }
   ],
   "source": [
    "df['Airline'].value_counts()"
   ]
  },
  {
   "cell_type": "code",
   "execution_count": 41,
   "metadata": {},
   "outputs": [
    {
     "data": {
      "text/plain": [
       "0                    BLR ? DEL\n",
       "1        CCU ? IXR ? BBI ? BLR\n",
       "2        DEL ? LKO ? BOM ? COK\n",
       "3              CCU ? NAG ? BLR\n",
       "4              BLR ? NAG ? DEL\n",
       "                 ...          \n",
       "10678                CCU ? BLR\n",
       "10679                CCU ? BLR\n",
       "10680                BLR ? DEL\n",
       "10681                BLR ? DEL\n",
       "10682    DEL ? GOI ? BOM ? COK\n",
       "Name: Route, Length: 10682, dtype: object"
      ]
     },
     "execution_count": 41,
     "metadata": {},
     "output_type": "execute_result"
    }
   ],
   "source": [
    "## Now let's check Route and Additional_info columns\n",
    "\n",
    "df.Route"
   ]
  },
  {
   "cell_type": "code",
   "execution_count": 46,
   "metadata": {},
   "outputs": [
    {
     "data": {
      "text/plain": [
       "No info                         8344\n",
       "In-flight meal not included     1982\n",
       "No check-in baggage included     320\n",
       "1 Long layover                    19\n",
       "Change airports                    7\n",
       "Business class                     4\n",
       "No Info                            3\n",
       "Red-eye flight                     1\n",
       "2 Long layover                     1\n",
       "1 Short layover                    1\n",
       "Name: Additional_Info, dtype: int64"
      ]
     },
     "execution_count": 46,
     "metadata": {},
     "output_type": "execute_result"
    }
   ],
   "source": [
    "df.Additional_Info.value_counts()"
   ]
  },
  {
   "cell_type": "code",
   "execution_count": 44,
   "metadata": {},
   "outputs": [
    {
     "data": {
      "text/plain": [
       "8344"
      ]
     },
     "execution_count": 44,
     "metadata": {},
     "output_type": "execute_result"
    }
   ],
   "source": [
    "len(df[df.Additional_Info == 'No info'])"
   ]
  },
  {
   "cell_type": "code",
   "execution_count": 45,
   "metadata": {},
   "outputs": [
    {
     "data": {
      "text/plain": [
       "(10682, 15)"
      ]
     },
     "execution_count": 45,
     "metadata": {},
     "output_type": "execute_result"
    }
   ],
   "source": [
    "df.shape"
   ]
  },
  {
   "cell_type": "raw",
   "metadata": {},
   "source": [
    "we can observe from above code that approx 80% of the values in Additional_info are No info , hence it can be dropped"
   ]
  },
  {
   "cell_type": "code",
   "execution_count": 50,
   "metadata": {},
   "outputs": [
    {
     "data": {
      "text/plain": [
       "DEL ? BOM ? COK                      2376\n",
       "BLR ? DEL                            1552\n",
       "CCU ? BOM ? BLR                       979\n",
       "CCU ? BLR                             724\n",
       "BOM ? HYD                             621\n",
       "                                     ... \n",
       "BLR ? CCU ? BBI ? HYD ? VGA ? DEL       1\n",
       "BLR ? BOM ? IXC ? DEL                   1\n",
       "CCU ? IXB ? DEL ? BLR                   1\n",
       "BLR ? HBX ? BOM ? AMD ? DEL             1\n",
       "BOM ? GOI ? HYD                         1\n",
       "Name: Route, Length: 128, dtype: int64"
      ]
     },
     "execution_count": 50,
     "metadata": {},
     "output_type": "execute_result"
    }
   ],
   "source": [
    "df.Route.value_counts()"
   ]
  },
  {
   "cell_type": "code",
   "execution_count": 52,
   "metadata": {},
   "outputs": [
    {
     "data": {
      "text/plain": [
       "1 stop      5625\n",
       "non-stop    3491\n",
       "2 stops     1520\n",
       "3 stops       45\n",
       "4 stops        1\n",
       "Name: Total_Stops, dtype: int64"
      ]
     },
     "execution_count": 52,
     "metadata": {},
     "output_type": "execute_result"
    }
   ],
   "source": [
    "df.Total_Stops.value_counts()"
   ]
  },
  {
   "cell_type": "raw",
   "metadata": {},
   "source": [
    "Route and Total_Stops are related to each other, therefore, we can remove Route column too with Additional_info"
   ]
  },
  {
   "cell_type": "code",
   "execution_count": 53,
   "metadata": {},
   "outputs": [],
   "source": [
    "df.drop(columns=['Route', 'Additional_Info'], inplace = True)\n"
   ]
  },
  {
   "cell_type": "code",
   "execution_count": 56,
   "metadata": {},
   "outputs": [
    {
     "data": {
      "text/html": [
       "<div>\n",
       "<style scoped>\n",
       "    .dataframe tbody tr th:only-of-type {\n",
       "        vertical-align: middle;\n",
       "    }\n",
       "\n",
       "    .dataframe tbody tr th {\n",
       "        vertical-align: top;\n",
       "    }\n",
       "\n",
       "    .dataframe thead th {\n",
       "        text-align: right;\n",
       "    }\n",
       "</style>\n",
       "<table border=\"1\" class=\"dataframe\">\n",
       "  <thead>\n",
       "    <tr style=\"text-align: right;\">\n",
       "      <th></th>\n",
       "      <th>Airline</th>\n",
       "      <th>Source</th>\n",
       "      <th>Destination</th>\n",
       "      <th>Total_Stops</th>\n",
       "      <th>Price</th>\n",
       "      <th>Journey_day</th>\n",
       "      <th>Journey_month</th>\n",
       "      <th>Arrival_hour</th>\n",
       "      <th>Arrival_min</th>\n",
       "      <th>Dep_hour</th>\n",
       "      <th>Dep_min</th>\n",
       "      <th>Duration_hours</th>\n",
       "      <th>Duration_mins</th>\n",
       "    </tr>\n",
       "  </thead>\n",
       "  <tbody>\n",
       "    <tr>\n",
       "      <td>0</td>\n",
       "      <td>IndiGo</td>\n",
       "      <td>Banglore</td>\n",
       "      <td>New Delhi</td>\n",
       "      <td>non-stop</td>\n",
       "      <td>3897</td>\n",
       "      <td>24</td>\n",
       "      <td>3</td>\n",
       "      <td>1</td>\n",
       "      <td>10</td>\n",
       "      <td>22</td>\n",
       "      <td>20</td>\n",
       "      <td>2</td>\n",
       "      <td>50</td>\n",
       "    </tr>\n",
       "    <tr>\n",
       "      <td>1</td>\n",
       "      <td>Air India</td>\n",
       "      <td>Kolkata</td>\n",
       "      <td>Banglore</td>\n",
       "      <td>2 stops</td>\n",
       "      <td>7662</td>\n",
       "      <td>1</td>\n",
       "      <td>5</td>\n",
       "      <td>13</td>\n",
       "      <td>15</td>\n",
       "      <td>5</td>\n",
       "      <td>50</td>\n",
       "      <td>7</td>\n",
       "      <td>25</td>\n",
       "    </tr>\n",
       "  </tbody>\n",
       "</table>\n",
       "</div>"
      ],
      "text/plain": [
       "     Airline    Source Destination Total_Stops  Price  Journey_day  \\\n",
       "0     IndiGo  Banglore   New Delhi    non-stop   3897           24   \n",
       "1  Air India   Kolkata    Banglore     2 stops   7662            1   \n",
       "\n",
       "   Journey_month  Arrival_hour  Arrival_min  Dep_hour  Dep_min  \\\n",
       "0              3             1           10        22       20   \n",
       "1              5            13           15         5       50   \n",
       "\n",
       "   Duration_hours  Duration_mins  \n",
       "0               2             50  \n",
       "1               7             25  "
      ]
     },
     "execution_count": 56,
     "metadata": {},
     "output_type": "execute_result"
    }
   ],
   "source": [
    "df.head(2)"
   ]
  },
  {
   "cell_type": "code",
   "execution_count": 57,
   "metadata": {},
   "outputs": [],
   "source": [
    "## after looking to Total_Stops we noticed that its a case of Ordinal categorical type so we'll perform Label Encoder\n",
    "\n",
    "df.replace({'non-stop': 0, '1 stop': 1, '2 stops': 2, '3 stops': 3, '4 stops': 4}, inplace = True)"
   ]
  },
  {
   "cell_type": "code",
   "execution_count": 61,
   "metadata": {},
   "outputs": [
    {
     "data": {
      "text/plain": [
       "Index(['Airline', 'Source', 'Destination', 'Total_Stops', 'Price',\n",
       "       'Journey_day', 'Journey_month', 'Arrival_hour', 'Arrival_min',\n",
       "       'Dep_hour', 'Dep_min', 'Duration_hours', 'Duration_mins'],\n",
       "      dtype='object')"
      ]
     },
     "execution_count": 61,
     "metadata": {},
     "output_type": "execute_result"
    }
   ],
   "source": [
    "df.columns"
   ]
  },
  {
   "cell_type": "code",
   "execution_count": 62,
   "metadata": {},
   "outputs": [
    {
     "data": {
      "text/html": [
       "<div>\n",
       "<style scoped>\n",
       "    .dataframe tbody tr th:only-of-type {\n",
       "        vertical-align: middle;\n",
       "    }\n",
       "\n",
       "    .dataframe tbody tr th {\n",
       "        vertical-align: top;\n",
       "    }\n",
       "\n",
       "    .dataframe thead th {\n",
       "        text-align: right;\n",
       "    }\n",
       "</style>\n",
       "<table border=\"1\" class=\"dataframe\">\n",
       "  <thead>\n",
       "    <tr style=\"text-align: right;\">\n",
       "      <th></th>\n",
       "      <th>Airline</th>\n",
       "      <th>Source</th>\n",
       "      <th>Destination</th>\n",
       "      <th>Total_Stops</th>\n",
       "      <th>Price</th>\n",
       "      <th>Journey_day</th>\n",
       "      <th>Journey_month</th>\n",
       "      <th>Arrival_hour</th>\n",
       "      <th>Arrival_min</th>\n",
       "      <th>Dep_hour</th>\n",
       "      <th>Dep_min</th>\n",
       "      <th>Duration_hours</th>\n",
       "      <th>Duration_mins</th>\n",
       "    </tr>\n",
       "  </thead>\n",
       "  <tbody>\n",
       "    <tr>\n",
       "      <td>0</td>\n",
       "      <td>IndiGo</td>\n",
       "      <td>Banglore</td>\n",
       "      <td>New Delhi</td>\n",
       "      <td>0</td>\n",
       "      <td>3897</td>\n",
       "      <td>24</td>\n",
       "      <td>3</td>\n",
       "      <td>1</td>\n",
       "      <td>10</td>\n",
       "      <td>22</td>\n",
       "      <td>20</td>\n",
       "      <td>2</td>\n",
       "      <td>50</td>\n",
       "    </tr>\n",
       "  </tbody>\n",
       "</table>\n",
       "</div>"
      ],
      "text/plain": [
       "  Airline    Source Destination  Total_Stops  Price  Journey_day  \\\n",
       "0  IndiGo  Banglore   New Delhi            0   3897           24   \n",
       "\n",
       "   Journey_month  Arrival_hour  Arrival_min  Dep_hour  Dep_min  \\\n",
       "0              3             1           10        22       20   \n",
       "\n",
       "   Duration_hours  Duration_mins  \n",
       "0               2             50  "
      ]
     },
     "execution_count": 62,
     "metadata": {},
     "output_type": "execute_result"
    }
   ],
   "source": [
    "## Now it's time for handling categorical data\n",
    "test = df.copy()\n",
    "test.head(1)"
   ]
  },
  {
   "cell_type": "code",
   "execution_count": 63,
   "metadata": {},
   "outputs": [
    {
     "data": {
      "text/html": [
       "<div>\n",
       "<style scoped>\n",
       "    .dataframe tbody tr th:only-of-type {\n",
       "        vertical-align: middle;\n",
       "    }\n",
       "\n",
       "    .dataframe tbody tr th {\n",
       "        vertical-align: top;\n",
       "    }\n",
       "\n",
       "    .dataframe thead th {\n",
       "        text-align: right;\n",
       "    }\n",
       "</style>\n",
       "<table border=\"1\" class=\"dataframe\">\n",
       "  <thead>\n",
       "    <tr style=\"text-align: right;\">\n",
       "      <th></th>\n",
       "      <th>Total_Stops</th>\n",
       "      <th>Price</th>\n",
       "      <th>Journey_day</th>\n",
       "      <th>Journey_month</th>\n",
       "      <th>Arrival_hour</th>\n",
       "      <th>Arrival_min</th>\n",
       "      <th>Dep_hour</th>\n",
       "      <th>Dep_min</th>\n",
       "      <th>Duration_hours</th>\n",
       "      <th>Duration_mins</th>\n",
       "      <th>...</th>\n",
       "      <th>Airline_other</th>\n",
       "      <th>Source_Chennai</th>\n",
       "      <th>Source_Delhi</th>\n",
       "      <th>Source_Kolkata</th>\n",
       "      <th>Source_Mumbai</th>\n",
       "      <th>Destination_Cochin</th>\n",
       "      <th>Destination_Delhi</th>\n",
       "      <th>Destination_Hyderabad</th>\n",
       "      <th>Destination_Kolkata</th>\n",
       "      <th>Destination_New Delhi</th>\n",
       "    </tr>\n",
       "  </thead>\n",
       "  <tbody>\n",
       "    <tr>\n",
       "      <td>0</td>\n",
       "      <td>0</td>\n",
       "      <td>3897</td>\n",
       "      <td>24</td>\n",
       "      <td>3</td>\n",
       "      <td>1</td>\n",
       "      <td>10</td>\n",
       "      <td>22</td>\n",
       "      <td>20</td>\n",
       "      <td>2</td>\n",
       "      <td>50</td>\n",
       "      <td>...</td>\n",
       "      <td>0</td>\n",
       "      <td>0</td>\n",
       "      <td>0</td>\n",
       "      <td>0</td>\n",
       "      <td>0</td>\n",
       "      <td>0</td>\n",
       "      <td>0</td>\n",
       "      <td>0</td>\n",
       "      <td>0</td>\n",
       "      <td>1</td>\n",
       "    </tr>\n",
       "    <tr>\n",
       "      <td>1</td>\n",
       "      <td>2</td>\n",
       "      <td>7662</td>\n",
       "      <td>1</td>\n",
       "      <td>5</td>\n",
       "      <td>13</td>\n",
       "      <td>15</td>\n",
       "      <td>5</td>\n",
       "      <td>50</td>\n",
       "      <td>7</td>\n",
       "      <td>25</td>\n",
       "      <td>...</td>\n",
       "      <td>0</td>\n",
       "      <td>0</td>\n",
       "      <td>0</td>\n",
       "      <td>1</td>\n",
       "      <td>0</td>\n",
       "      <td>0</td>\n",
       "      <td>0</td>\n",
       "      <td>0</td>\n",
       "      <td>0</td>\n",
       "      <td>0</td>\n",
       "    </tr>\n",
       "    <tr>\n",
       "      <td>2</td>\n",
       "      <td>2</td>\n",
       "      <td>13882</td>\n",
       "      <td>9</td>\n",
       "      <td>6</td>\n",
       "      <td>4</td>\n",
       "      <td>25</td>\n",
       "      <td>9</td>\n",
       "      <td>25</td>\n",
       "      <td>19</td>\n",
       "      <td>0</td>\n",
       "      <td>...</td>\n",
       "      <td>0</td>\n",
       "      <td>0</td>\n",
       "      <td>1</td>\n",
       "      <td>0</td>\n",
       "      <td>0</td>\n",
       "      <td>1</td>\n",
       "      <td>0</td>\n",
       "      <td>0</td>\n",
       "      <td>0</td>\n",
       "      <td>0</td>\n",
       "    </tr>\n",
       "    <tr>\n",
       "      <td>3</td>\n",
       "      <td>1</td>\n",
       "      <td>6218</td>\n",
       "      <td>12</td>\n",
       "      <td>5</td>\n",
       "      <td>23</td>\n",
       "      <td>30</td>\n",
       "      <td>18</td>\n",
       "      <td>5</td>\n",
       "      <td>5</td>\n",
       "      <td>25</td>\n",
       "      <td>...</td>\n",
       "      <td>0</td>\n",
       "      <td>0</td>\n",
       "      <td>0</td>\n",
       "      <td>1</td>\n",
       "      <td>0</td>\n",
       "      <td>0</td>\n",
       "      <td>0</td>\n",
       "      <td>0</td>\n",
       "      <td>0</td>\n",
       "      <td>0</td>\n",
       "    </tr>\n",
       "    <tr>\n",
       "      <td>4</td>\n",
       "      <td>1</td>\n",
       "      <td>13302</td>\n",
       "      <td>1</td>\n",
       "      <td>3</td>\n",
       "      <td>21</td>\n",
       "      <td>35</td>\n",
       "      <td>16</td>\n",
       "      <td>50</td>\n",
       "      <td>4</td>\n",
       "      <td>45</td>\n",
       "      <td>...</td>\n",
       "      <td>0</td>\n",
       "      <td>0</td>\n",
       "      <td>0</td>\n",
       "      <td>0</td>\n",
       "      <td>0</td>\n",
       "      <td>0</td>\n",
       "      <td>0</td>\n",
       "      <td>0</td>\n",
       "      <td>0</td>\n",
       "      <td>1</td>\n",
       "    </tr>\n",
       "    <tr>\n",
       "      <td>...</td>\n",
       "      <td>...</td>\n",
       "      <td>...</td>\n",
       "      <td>...</td>\n",
       "      <td>...</td>\n",
       "      <td>...</td>\n",
       "      <td>...</td>\n",
       "      <td>...</td>\n",
       "      <td>...</td>\n",
       "      <td>...</td>\n",
       "      <td>...</td>\n",
       "      <td>...</td>\n",
       "      <td>...</td>\n",
       "      <td>...</td>\n",
       "      <td>...</td>\n",
       "      <td>...</td>\n",
       "      <td>...</td>\n",
       "      <td>...</td>\n",
       "      <td>...</td>\n",
       "      <td>...</td>\n",
       "      <td>...</td>\n",
       "      <td>...</td>\n",
       "    </tr>\n",
       "    <tr>\n",
       "      <td>10678</td>\n",
       "      <td>0</td>\n",
       "      <td>4107</td>\n",
       "      <td>9</td>\n",
       "      <td>4</td>\n",
       "      <td>22</td>\n",
       "      <td>25</td>\n",
       "      <td>19</td>\n",
       "      <td>55</td>\n",
       "      <td>2</td>\n",
       "      <td>30</td>\n",
       "      <td>...</td>\n",
       "      <td>0</td>\n",
       "      <td>0</td>\n",
       "      <td>0</td>\n",
       "      <td>1</td>\n",
       "      <td>0</td>\n",
       "      <td>0</td>\n",
       "      <td>0</td>\n",
       "      <td>0</td>\n",
       "      <td>0</td>\n",
       "      <td>0</td>\n",
       "    </tr>\n",
       "    <tr>\n",
       "      <td>10679</td>\n",
       "      <td>0</td>\n",
       "      <td>4145</td>\n",
       "      <td>27</td>\n",
       "      <td>4</td>\n",
       "      <td>23</td>\n",
       "      <td>20</td>\n",
       "      <td>20</td>\n",
       "      <td>45</td>\n",
       "      <td>2</td>\n",
       "      <td>35</td>\n",
       "      <td>...</td>\n",
       "      <td>0</td>\n",
       "      <td>0</td>\n",
       "      <td>0</td>\n",
       "      <td>1</td>\n",
       "      <td>0</td>\n",
       "      <td>0</td>\n",
       "      <td>0</td>\n",
       "      <td>0</td>\n",
       "      <td>0</td>\n",
       "      <td>0</td>\n",
       "    </tr>\n",
       "    <tr>\n",
       "      <td>10680</td>\n",
       "      <td>0</td>\n",
       "      <td>7229</td>\n",
       "      <td>27</td>\n",
       "      <td>4</td>\n",
       "      <td>11</td>\n",
       "      <td>20</td>\n",
       "      <td>8</td>\n",
       "      <td>20</td>\n",
       "      <td>3</td>\n",
       "      <td>0</td>\n",
       "      <td>...</td>\n",
       "      <td>0</td>\n",
       "      <td>0</td>\n",
       "      <td>0</td>\n",
       "      <td>0</td>\n",
       "      <td>0</td>\n",
       "      <td>0</td>\n",
       "      <td>1</td>\n",
       "      <td>0</td>\n",
       "      <td>0</td>\n",
       "      <td>0</td>\n",
       "    </tr>\n",
       "    <tr>\n",
       "      <td>10681</td>\n",
       "      <td>0</td>\n",
       "      <td>12648</td>\n",
       "      <td>1</td>\n",
       "      <td>3</td>\n",
       "      <td>14</td>\n",
       "      <td>10</td>\n",
       "      <td>11</td>\n",
       "      <td>30</td>\n",
       "      <td>2</td>\n",
       "      <td>40</td>\n",
       "      <td>...</td>\n",
       "      <td>0</td>\n",
       "      <td>0</td>\n",
       "      <td>0</td>\n",
       "      <td>0</td>\n",
       "      <td>0</td>\n",
       "      <td>0</td>\n",
       "      <td>0</td>\n",
       "      <td>0</td>\n",
       "      <td>0</td>\n",
       "      <td>1</td>\n",
       "    </tr>\n",
       "    <tr>\n",
       "      <td>10682</td>\n",
       "      <td>2</td>\n",
       "      <td>11753</td>\n",
       "      <td>9</td>\n",
       "      <td>5</td>\n",
       "      <td>19</td>\n",
       "      <td>15</td>\n",
       "      <td>10</td>\n",
       "      <td>55</td>\n",
       "      <td>8</td>\n",
       "      <td>20</td>\n",
       "      <td>...</td>\n",
       "      <td>0</td>\n",
       "      <td>0</td>\n",
       "      <td>1</td>\n",
       "      <td>0</td>\n",
       "      <td>0</td>\n",
       "      <td>1</td>\n",
       "      <td>0</td>\n",
       "      <td>0</td>\n",
       "      <td>0</td>\n",
       "      <td>0</td>\n",
       "    </tr>\n",
       "  </tbody>\n",
       "</table>\n",
       "<p>10682 rows × 28 columns</p>\n",
       "</div>"
      ],
      "text/plain": [
       "       Total_Stops  Price  Journey_day  Journey_month  Arrival_hour  \\\n",
       "0                0   3897           24              3             1   \n",
       "1                2   7662            1              5            13   \n",
       "2                2  13882            9              6             4   \n",
       "3                1   6218           12              5            23   \n",
       "4                1  13302            1              3            21   \n",
       "...            ...    ...          ...            ...           ...   \n",
       "10678            0   4107            9              4            22   \n",
       "10679            0   4145           27              4            23   \n",
       "10680            0   7229           27              4            11   \n",
       "10681            0  12648            1              3            14   \n",
       "10682            2  11753            9              5            19   \n",
       "\n",
       "       Arrival_min  Dep_hour  Dep_min  Duration_hours  Duration_mins  ...  \\\n",
       "0               10        22       20               2             50  ...   \n",
       "1               15         5       50               7             25  ...   \n",
       "2               25         9       25              19              0  ...   \n",
       "3               30        18        5               5             25  ...   \n",
       "4               35        16       50               4             45  ...   \n",
       "...            ...       ...      ...             ...            ...  ...   \n",
       "10678           25        19       55               2             30  ...   \n",
       "10679           20        20       45               2             35  ...   \n",
       "10680           20         8       20               3              0  ...   \n",
       "10681           10        11       30               2             40  ...   \n",
       "10682           15        10       55               8             20  ...   \n",
       "\n",
       "       Airline_other  Source_Chennai  Source_Delhi  Source_Kolkata  \\\n",
       "0                  0               0             0               0   \n",
       "1                  0               0             0               1   \n",
       "2                  0               0             1               0   \n",
       "3                  0               0             0               1   \n",
       "4                  0               0             0               0   \n",
       "...              ...             ...           ...             ...   \n",
       "10678              0               0             0               1   \n",
       "10679              0               0             0               1   \n",
       "10680              0               0             0               0   \n",
       "10681              0               0             0               0   \n",
       "10682              0               0             1               0   \n",
       "\n",
       "       Source_Mumbai  Destination_Cochin  Destination_Delhi  \\\n",
       "0                  0                   0                  0   \n",
       "1                  0                   0                  0   \n",
       "2                  0                   1                  0   \n",
       "3                  0                   0                  0   \n",
       "4                  0                   0                  0   \n",
       "...              ...                 ...                ...   \n",
       "10678              0                   0                  0   \n",
       "10679              0                   0                  0   \n",
       "10680              0                   0                  1   \n",
       "10681              0                   0                  0   \n",
       "10682              0                   1                  0   \n",
       "\n",
       "       Destination_Hyderabad  Destination_Kolkata  Destination_New Delhi  \n",
       "0                          0                    0                      1  \n",
       "1                          0                    0                      0  \n",
       "2                          0                    0                      0  \n",
       "3                          0                    0                      0  \n",
       "4                          0                    0                      1  \n",
       "...                      ...                  ...                    ...  \n",
       "10678                      0                    0                      0  \n",
       "10679                      0                    0                      0  \n",
       "10680                      0                    0                      0  \n",
       "10681                      0                    0                      1  \n",
       "10682                      0                    0                      0  \n",
       "\n",
       "[10682 rows x 28 columns]"
      ]
     },
     "execution_count": 63,
     "metadata": {},
     "output_type": "execute_result"
    }
   ],
   "source": [
    "dfdummies = pd.get_dummies(data=df,columns=['Airline','Source','Destination'],drop_first = True)\n",
    "dfdummies\n"
   ]
  },
  {
   "cell_type": "code",
   "execution_count": 64,
   "metadata": {},
   "outputs": [
    {
     "data": {
      "text/plain": [
       "Index(['Total_Stops', 'Price', 'Journey_day', 'Journey_month', 'Arrival_hour',\n",
       "       'Arrival_min', 'Dep_hour', 'Dep_min', 'Duration_hours', 'Duration_mins',\n",
       "       'Airline_Air India', 'Airline_GoAir', 'Airline_IndiGo',\n",
       "       'Airline_Jet Airways', 'Airline_Multiple carriers',\n",
       "       'Airline_Multiple carriers Premium economy', 'Airline_SpiceJet',\n",
       "       'Airline_Vistara', 'Airline_other', 'Source_Chennai', 'Source_Delhi',\n",
       "       'Source_Kolkata', 'Source_Mumbai', 'Destination_Cochin',\n",
       "       'Destination_Delhi', 'Destination_Hyderabad', 'Destination_Kolkata',\n",
       "       'Destination_New Delhi'],\n",
       "      dtype='object')"
      ]
     },
     "execution_count": 64,
     "metadata": {},
     "output_type": "execute_result"
    }
   ],
   "source": [
    "dfdummies.columns"
   ]
  },
  {
   "cell_type": "code",
   "execution_count": 67,
   "metadata": {},
   "outputs": [],
   "source": [
    "## Independent and dependent feature\n",
    "x = dfdummies.drop('Price',axis=1)\n",
    "y = dfdummies['Price']"
   ]
  },
  {
   "cell_type": "code",
   "execution_count": 74,
   "metadata": {},
   "outputs": [],
   "source": [
    "from sklearn.model_selection import train_test_split\n",
    "x_train, x_test, y_train, y_test = train_test_split(x, y, test_size = 0.20, random_state = 1)"
   ]
  },
  {
   "cell_type": "code",
   "execution_count": 76,
   "metadata": {},
   "outputs": [
    {
     "name": "stdout",
     "output_type": "stream",
     "text": [
      "(8545, 27)\n",
      "(2137, 27)\n",
      "(8545,)\n",
      "(2137,)\n"
     ]
    }
   ],
   "source": [
    "print(x_train.shape)\n",
    "print(x_test.shape)\n",
    "print(y_train.shape)\n",
    "print(y_test.shape)"
   ]
  },
  {
   "cell_type": "code",
   "execution_count": 77,
   "metadata": {},
   "outputs": [
    {
     "name": "stderr",
     "output_type": "stream",
     "text": [
      "C:\\ProgramData\\Anaconda3\\lib\\site-packages\\sklearn\\ensemble\\forest.py:245: FutureWarning: The default value of n_estimators will change from 10 in version 0.20 to 100 in 0.22.\n",
      "  \"10 in version 0.20 to 100 in 0.22.\", FutureWarning)\n"
     ]
    },
    {
     "data": {
      "text/plain": [
       "RandomForestRegressor(bootstrap=True, criterion='mse', max_depth=None,\n",
       "                      max_features='auto', max_leaf_nodes=None,\n",
       "                      min_impurity_decrease=0.0, min_impurity_split=None,\n",
       "                      min_samples_leaf=1, min_samples_split=2,\n",
       "                      min_weight_fraction_leaf=0.0, n_estimators=10,\n",
       "                      n_jobs=None, oob_score=False, random_state=None,\n",
       "                      verbose=0, warm_start=False)"
      ]
     },
     "execution_count": 77,
     "metadata": {},
     "output_type": "execute_result"
    }
   ],
   "source": [
    "## Now we'll apply Random Forest Regressor\n",
    "from sklearn.ensemble import RandomForestRegressor\n",
    "rf_model = RandomForestRegressor()\n",
    "rf_model.fit(x_train, y_train)"
   ]
  },
  {
   "cell_type": "code",
   "execution_count": 78,
   "metadata": {},
   "outputs": [
    {
     "data": {
      "text/plain": [
       "array([ 5424.4       , 11622.25      , 13259.        , ...,\n",
       "       14230.95      ,  6795.        ,  3761.86666667])"
      ]
     },
     "execution_count": 78,
     "metadata": {},
     "output_type": "execute_result"
    }
   ],
   "source": [
    "preds = rf_model.predict(x_test)\n",
    "preds"
   ]
  },
  {
   "cell_type": "code",
   "execution_count": 79,
   "metadata": {},
   "outputs": [
    {
     "data": {
      "text/plain": [
       "0.9436373953797863"
      ]
     },
     "execution_count": 79,
     "metadata": {},
     "output_type": "execute_result"
    }
   ],
   "source": [
    "rf_model.score(x_train, y_train)\n"
   ]
  },
  {
   "cell_type": "code",
   "execution_count": 81,
   "metadata": {},
   "outputs": [
    {
     "data": {
      "text/plain": [
       "0.7914247024315729"
      ]
     },
     "execution_count": 81,
     "metadata": {},
     "output_type": "execute_result"
    }
   ],
   "source": [
    "rf_model.score(x_test, y_test)\n"
   ]
  },
  {
   "cell_type": "code",
   "execution_count": 82,
   "metadata": {},
   "outputs": [
    {
     "data": {
      "text/plain": [
       "Text(0, 0.5, 'preds')"
      ]
     },
     "execution_count": 82,
     "metadata": {},
     "output_type": "execute_result"
    },
    {
     "data": {
      "image/png": "[encoded data removed]",
      "text/plain": [
       "<Figure size 432x288 with 1 Axes>"
      ]
     },
     "metadata": {
      "needs_background": "light"
     },
     "output_type": "display_data"
    }
   ],
   "source": [
    "## Scatterplot\n",
    "\n",
    "plt.scatter(y_test, preds, alpha = 0.5)\n",
    "plt.xlabel('y_test')\n",
    "plt.ylabel('preds')"
   ]
  },
  {
   "cell_type": "code",
   "execution_count": 84,
   "metadata": {},
   "outputs": [],
   "source": [
    "## Evaluation\n",
    "from sklearn import metrics"
   ]
  },
  {
   "cell_type": "code",
   "execution_count": 85,
   "metadata": {},
   "outputs": [
    {
     "name": "stdout",
     "output_type": "stream",
     "text": [
      "MAE:  1238.8025839888287\n",
      "MSE:  4278023.355427667\n",
      "RMSE:  2068.338307779379\n",
      "r2_score:  0.7914247024315728\n"
     ]
    }
   ],
   "source": [
    "print('MAE: ', metrics.mean_absolute_error(y_test, preds))\n",
    "print('MSE: ', metrics.mean_squared_error(y_test, preds))\n",
    "print('RMSE: ', np.sqrt(metrics.mean_squared_error(y_test, preds)))\n",
    "\n",
    "print('r2_score: ', metrics.r2_score(y_test, preds))"
   ]
  },
  {
   "cell_type": "code",
   "execution_count": null,
   "metadata": {},
   "outputs": [],
   "source": []
  },
  {
   "cell_type": "code",
   "execution_count": null,
   "metadata": {},
   "outputs": [],
   "source": []
  },
  {
   "cell_type": "code",
   "execution_count": null,
   "metadata": {},
   "outputs": [],
   "source": []
  },
  {
   "cell_type": "code",
   "execution_count": 89,
   "metadata": {},
   "outputs": [],
   "source": [
    "## Hyperparameter Tuning\n",
    "\n",
    "from sklearn.model_selection import RandomizedSearchCV"
   ]
  },
  {
   "cell_type": "code",
   "execution_count": 90,
   "metadata": {},
   "outputs": [],
   "source": [
    "n_estimators = [int(x) for x in np.linspace(start = 100, stop = 1200, num = 12 )]\n",
    "max_depth = [int(x) for x in np.linspace(5,30, num = 6)]\n",
    "max_features = ['auto', 'sqrt', 'log2']\n",
    "min_samples_split = [2,5,10,15,20,100]\n",
    "min_samples_leaf = [1,2,5,6,7,10]"
   ]
  },
  {
   "cell_type": "code",
   "execution_count": 91,
   "metadata": {},
   "outputs": [
    {
     "name": "stdout",
     "output_type": "stream",
     "text": [
      "{'n_estimators': [100, 200, 300, 400, 500, 600, 700, 800, 900, 1000, 1100, 1200], 'max_features': ['auto', 'sqrt', 'log2'], 'max_depth': [5, 10, 15, 20, 25, 30], 'min_samples_split': [2, 5, 10, 15, 20, 100], 'min_samples_leaf': [1, 2, 5, 6, 7, 10]}\n"
     ]
    }
   ],
   "source": [
    "random_grid = {\n",
    "    'n_estimators' : n_estimators,\n",
    "    'max_features' : max_features,\n",
    "    'max_depth' : max_depth,\n",
    "    'min_samples_split' : min_samples_split,\n",
    "    'min_samples_leaf' : min_samples_leaf\n",
    "}\n",
    "\n",
    "print(random_grid)"
   ]
  },
  {
   "cell_type": "code",
   "execution_count": 93,
   "metadata": {},
   "outputs": [],
   "source": [
    "rf_random_model = RandomizedSearchCV(estimator = rf_model, param_distributions = random_grid, scoring = 'neg_mean_squared_error',\n",
    "                                    n_iter = 10, cv = 5, verbose = 2, random_state = 1, n_jobs = 1)"
   ]
  },
  {
   "cell_type": "code",
   "execution_count": 94,
   "metadata": {},
   "outputs": [
    {
     "name": "stdout",
     "output_type": "stream",
     "text": [
      "Fitting 5 folds for each of 10 candidates, totalling 50 fits\n",
      "[CV] n_estimators=1000, min_samples_split=15, min_samples_leaf=10, max_features=log2, max_depth=20 \n"
     ]
    },
    {
     "name": "stderr",
     "output_type": "stream",
     "text": [
      "[Parallel(n_jobs=1)]: Using backend SequentialBackend with 1 concurrent workers.\n"
     ]
    },
    {
     "name": "stdout",
     "output_type": "stream",
     "text": [
      "[CV]  n_estimators=1000, min_samples_split=15, min_samples_leaf=10, max_features=log2, max_depth=20, total=   2.9s\n",
      "[CV] n_estimators=1000, min_samples_split=15, min_samples_leaf=10, max_features=log2, max_depth=20 \n"
     ]
    },
    {
     "name": "stderr",
     "output_type": "stream",
     "text": [
      "[Parallel(n_jobs=1)]: Done   1 out of   1 | elapsed:    2.8s remaining:    0.0s\n"
     ]
    },
    {
     "name": "stdout",
     "output_type": "stream",
     "text": [
      "[CV]  n_estimators=1000, min_samples_split=15, min_samples_leaf=10, max_features=log2, max_depth=20, total=   2.9s\n",
      "[CV] n_estimators=1000, min_samples_split=15, min_samples_leaf=10, max_features=log2, max_depth=20 \n",
      "[CV]  n_estimators=1000, min_samples_split=15, min_samples_leaf=10, max_features=log2, max_depth=20, total=   2.8s\n",
      "[CV] n_estimators=1000, min_samples_split=15, min_samples_leaf=10, max_features=log2, max_depth=20 \n",
      "[CV]  n_estimators=1000, min_samples_split=15, min_samples_leaf=10, max_features=log2, max_depth=20, total=   3.0s\n",
      "[CV] n_estimators=1000, min_samples_split=15, min_samples_leaf=10, max_features=log2, max_depth=20 \n",
      "[CV]  n_estimators=1000, min_samples_split=15, min_samples_leaf=10, max_features=log2, max_depth=20, total=   2.8s\n",
      "[CV] n_estimators=800, min_samples_split=5, min_samples_leaf=6, max_features=auto, max_depth=5 \n",
      "[CV]  n_estimators=800, min_samples_split=5, min_samples_leaf=6, max_features=auto, max_depth=5, total=   4.6s\n",
      "[CV] n_estimators=800, min_samples_split=5, min_samples_leaf=6, max_features=auto, max_depth=5 \n",
      "[CV]  n_estimators=800, min_samples_split=5, min_samples_leaf=6, max_features=auto, max_depth=5, total=   4.6s\n",
      "[CV] n_estimators=800, min_samples_split=5, min_samples_leaf=6, max_features=auto, max_depth=5 \n",
      "[CV]  n_estimators=800, min_samples_split=5, min_samples_leaf=6, max_features=auto, max_depth=5, total=   4.5s\n",
      "[CV] n_estimators=800, min_samples_split=5, min_samples_leaf=6, max_features=auto, max_depth=5 \n",
      "[CV]  n_estimators=800, min_samples_split=5, min_samples_leaf=6, max_features=auto, max_depth=5, total=   4.5s\n",
      "[CV] n_estimators=800, min_samples_split=5, min_samples_leaf=6, max_features=auto, max_depth=5 \n",
      "[CV]  n_estimators=800, min_samples_split=5, min_samples_leaf=6, max_features=auto, max_depth=5, total=   4.5s\n",
      "[CV] n_estimators=900, min_samples_split=5, min_samples_leaf=2, max_features=auto, max_depth=20 \n",
      "[CV]  n_estimators=900, min_samples_split=5, min_samples_leaf=2, max_features=auto, max_depth=20, total=  13.1s\n",
      "[CV] n_estimators=900, min_samples_split=5, min_samples_leaf=2, max_features=auto, max_depth=20 \n",
      "[CV]  n_estimators=900, min_samples_split=5, min_samples_leaf=2, max_features=auto, max_depth=20, total=  13.6s\n",
      "[CV] n_estimators=900, min_samples_split=5, min_samples_leaf=2, max_features=auto, max_depth=20 \n",
      "[CV]  n_estimators=900, min_samples_split=5, min_samples_leaf=2, max_features=auto, max_depth=20, total=  13.6s\n",
      "[CV] n_estimators=900, min_samples_split=5, min_samples_leaf=2, max_features=auto, max_depth=20 \n",
      "[CV]  n_estimators=900, min_samples_split=5, min_samples_leaf=2, max_features=auto, max_depth=20, total=  14.0s\n",
      "[CV] n_estimators=900, min_samples_split=5, min_samples_leaf=2, max_features=auto, max_depth=20 \n",
      "[CV]  n_estimators=900, min_samples_split=5, min_samples_leaf=2, max_features=auto, max_depth=20, total=  14.0s\n",
      "[CV] n_estimators=900, min_samples_split=2, min_samples_leaf=1, max_features=auto, max_depth=25 \n",
      "[CV]  n_estimators=900, min_samples_split=2, min_samples_leaf=1, max_features=auto, max_depth=25, total=  17.1s\n",
      "[CV] n_estimators=900, min_samples_split=2, min_samples_leaf=1, max_features=auto, max_depth=25 \n",
      "[CV]  n_estimators=900, min_samples_split=2, min_samples_leaf=1, max_features=auto, max_depth=25, total=  15.6s\n",
      "[CV] n_estimators=900, min_samples_split=2, min_samples_leaf=1, max_features=auto, max_depth=25 \n",
      "[CV]  n_estimators=900, min_samples_split=2, min_samples_leaf=1, max_features=auto, max_depth=25, total=  15.2s\n",
      "[CV] n_estimators=900, min_samples_split=2, min_samples_leaf=1, max_features=auto, max_depth=25 \n",
      "[CV]  n_estimators=900, min_samples_split=2, min_samples_leaf=1, max_features=auto, max_depth=25, total=  15.6s\n",
      "[CV] n_estimators=900, min_samples_split=2, min_samples_leaf=1, max_features=auto, max_depth=25 \n",
      "[CV]  n_estimators=900, min_samples_split=2, min_samples_leaf=1, max_features=auto, max_depth=25, total=  15.4s\n",
      "[CV] n_estimators=600, min_samples_split=15, min_samples_leaf=1, max_features=log2, max_depth=5 \n",
      "[CV]  n_estimators=600, min_samples_split=15, min_samples_leaf=1, max_features=log2, max_depth=5, total=   0.9s\n",
      "[CV] n_estimators=600, min_samples_split=15, min_samples_leaf=1, max_features=log2, max_depth=5 \n",
      "[CV]  n_estimators=600, min_samples_split=15, min_samples_leaf=1, max_features=log2, max_depth=5, total=   0.9s\n",
      "[CV] n_estimators=600, min_samples_split=15, min_samples_leaf=1, max_features=log2, max_depth=5 \n",
      "[CV]  n_estimators=600, min_samples_split=15, min_samples_leaf=1, max_features=log2, max_depth=5, total=   0.9s\n",
      "[CV] n_estimators=600, min_samples_split=15, min_samples_leaf=1, max_features=log2, max_depth=5 \n",
      "[CV]  n_estimators=600, min_samples_split=15, min_samples_leaf=1, max_features=log2, max_depth=5, total=   0.9s\n",
      "[CV] n_estimators=600, min_samples_split=15, min_samples_leaf=1, max_features=log2, max_depth=5 \n",
      "[CV]  n_estimators=600, min_samples_split=15, min_samples_leaf=1, max_features=log2, max_depth=5, total=   0.9s\n",
      "[CV] n_estimators=400, min_samples_split=10, min_samples_leaf=5, max_features=auto, max_depth=15 \n",
      "[CV]  n_estimators=400, min_samples_split=10, min_samples_leaf=5, max_features=auto, max_depth=15, total=   4.7s\n",
      "[CV] n_estimators=400, min_samples_split=10, min_samples_leaf=5, max_features=auto, max_depth=15 \n",
      "[CV]  n_estimators=400, min_samples_split=10, min_samples_leaf=5, max_features=auto, max_depth=15, total=   4.6s\n",
      "[CV] n_estimators=400, min_samples_split=10, min_samples_leaf=5, max_features=auto, max_depth=15 \n",
      "[CV]  n_estimators=400, min_samples_split=10, min_samples_leaf=5, max_features=auto, max_depth=15, total=   4.6s\n",
      "[CV] n_estimators=400, min_samples_split=10, min_samples_leaf=5, max_features=auto, max_depth=15 \n",
      "[CV]  n_estimators=400, min_samples_split=10, min_samples_leaf=5, max_features=auto, max_depth=15, total=   4.7s\n",
      "[CV] n_estimators=400, min_samples_split=10, min_samples_leaf=5, max_features=auto, max_depth=15 \n",
      "[CV]  n_estimators=400, min_samples_split=10, min_samples_leaf=5, max_features=auto, max_depth=15, total=   4.7s\n",
      "[CV] n_estimators=400, min_samples_split=5, min_samples_leaf=7, max_features=auto, max_depth=15 \n",
      "[CV]  n_estimators=400, min_samples_split=5, min_samples_leaf=7, max_features=auto, max_depth=15, total=   4.4s\n",
      "[CV] n_estimators=400, min_samples_split=5, min_samples_leaf=7, max_features=auto, max_depth=15 \n",
      "[CV]  n_estimators=400, min_samples_split=5, min_samples_leaf=7, max_features=auto, max_depth=15, total=   4.3s\n",
      "[CV] n_estimators=400, min_samples_split=5, min_samples_leaf=7, max_features=auto, max_depth=15 \n",
      "[CV]  n_estimators=400, min_samples_split=5, min_samples_leaf=7, max_features=auto, max_depth=15, total=   4.7s\n",
      "[CV] n_estimators=400, min_samples_split=5, min_samples_leaf=7, max_features=auto, max_depth=15 \n",
      "[CV]  n_estimators=400, min_samples_split=5, min_samples_leaf=7, max_features=auto, max_depth=15, total=   4.6s\n",
      "[CV] n_estimators=400, min_samples_split=5, min_samples_leaf=7, max_features=auto, max_depth=15 \n",
      "[CV]  n_estimators=400, min_samples_split=5, min_samples_leaf=7, max_features=auto, max_depth=15, total=   4.4s\n",
      "[CV] n_estimators=500, min_samples_split=5, min_samples_leaf=7, max_features=log2, max_depth=20 \n",
      "[CV]  n_estimators=500, min_samples_split=5, min_samples_leaf=7, max_features=log2, max_depth=20, total=   1.5s\n",
      "[CV] n_estimators=500, min_samples_split=5, min_samples_leaf=7, max_features=log2, max_depth=20 \n",
      "[CV]  n_estimators=500, min_samples_split=5, min_samples_leaf=7, max_features=log2, max_depth=20, total=   1.5s\n",
      "[CV] n_estimators=500, min_samples_split=5, min_samples_leaf=7, max_features=log2, max_depth=20 \n",
      "[CV]  n_estimators=500, min_samples_split=5, min_samples_leaf=7, max_features=log2, max_depth=20, total=   1.5s\n",
      "[CV] n_estimators=500, min_samples_split=5, min_samples_leaf=7, max_features=log2, max_depth=20 \n",
      "[CV]  n_estimators=500, min_samples_split=5, min_samples_leaf=7, max_features=log2, max_depth=20, total=   1.5s\n",
      "[CV] n_estimators=500, min_samples_split=5, min_samples_leaf=7, max_features=log2, max_depth=20 \n",
      "[CV]  n_estimators=500, min_samples_split=5, min_samples_leaf=7, max_features=log2, max_depth=20, total=   1.5s\n",
      "[CV] n_estimators=100, min_samples_split=2, min_samples_leaf=5, max_features=auto, max_depth=5 \n",
      "[CV]  n_estimators=100, min_samples_split=2, min_samples_leaf=5, max_features=auto, max_depth=5, total=   0.6s\n",
      "[CV] n_estimators=100, min_samples_split=2, min_samples_leaf=5, max_features=auto, max_depth=5 \n"
     ]
    },
    {
     "name": "stdout",
     "output_type": "stream",
     "text": [
      "[CV]  n_estimators=100, min_samples_split=2, min_samples_leaf=5, max_features=auto, max_depth=5, total=   0.6s\n",
      "[CV] n_estimators=100, min_samples_split=2, min_samples_leaf=5, max_features=auto, max_depth=5 \n",
      "[CV]  n_estimators=100, min_samples_split=2, min_samples_leaf=5, max_features=auto, max_depth=5, total=   0.6s\n",
      "[CV] n_estimators=100, min_samples_split=2, min_samples_leaf=5, max_features=auto, max_depth=5 \n",
      "[CV]  n_estimators=100, min_samples_split=2, min_samples_leaf=5, max_features=auto, max_depth=5, total=   0.6s\n",
      "[CV] n_estimators=100, min_samples_split=2, min_samples_leaf=5, max_features=auto, max_depth=5 \n",
      "[CV]  n_estimators=100, min_samples_split=2, min_samples_leaf=5, max_features=auto, max_depth=5, total=   0.6s\n",
      "[CV] n_estimators=200, min_samples_split=20, min_samples_leaf=7, max_features=auto, max_depth=20 \n",
      "[CV]  n_estimators=200, min_samples_split=20, min_samples_leaf=7, max_features=auto, max_depth=20, total=   2.1s\n",
      "[CV] n_estimators=200, min_samples_split=20, min_samples_leaf=7, max_features=auto, max_depth=20 \n",
      "[CV]  n_estimators=200, min_samples_split=20, min_samples_leaf=7, max_features=auto, max_depth=20, total=   2.1s\n",
      "[CV] n_estimators=200, min_samples_split=20, min_samples_leaf=7, max_features=auto, max_depth=20 \n",
      "[CV]  n_estimators=200, min_samples_split=20, min_samples_leaf=7, max_features=auto, max_depth=20, total=   2.1s\n",
      "[CV] n_estimators=200, min_samples_split=20, min_samples_leaf=7, max_features=auto, max_depth=20 \n",
      "[CV]  n_estimators=200, min_samples_split=20, min_samples_leaf=7, max_features=auto, max_depth=20, total=   2.1s\n",
      "[CV] n_estimators=200, min_samples_split=20, min_samples_leaf=7, max_features=auto, max_depth=20 \n",
      "[CV]  n_estimators=200, min_samples_split=20, min_samples_leaf=7, max_features=auto, max_depth=20, total=   2.1s\n"
     ]
    },
    {
     "name": "stderr",
     "output_type": "stream",
     "text": [
      "[Parallel(n_jobs=1)]: Done  50 out of  50 | elapsed:  4.3min finished\n"
     ]
    },
    {
     "data": {
      "text/plain": [
       "RandomizedSearchCV(cv=5, error_score='raise-deprecating',\n",
       "                   estimator=RandomForestRegressor(bootstrap=True,\n",
       "                                                   criterion='mse',\n",
       "                                                   max_depth=None,\n",
       "                                                   max_features='auto',\n",
       "                                                   max_leaf_nodes=None,\n",
       "                                                   min_impurity_decrease=0.0,\n",
       "                                                   min_impurity_split=None,\n",
       "                                                   min_samples_leaf=1,\n",
       "                                                   min_samples_split=2,\n",
       "                                                   min_weight_fraction_leaf=0.0,\n",
       "                                                   n_estimators=10, n_jobs=None,\n",
       "                                                   oob_score=False,\n",
       "                                                   random_state=N...\n",
       "                   param_distributions={'max_depth': [5, 10, 15, 20, 25, 30],\n",
       "                                        'max_features': ['auto', 'sqrt',\n",
       "                                                         'log2'],\n",
       "                                        'min_samples_leaf': [1, 2, 5, 6, 7, 10],\n",
       "                                        'min_samples_split': [2, 5, 10, 15, 20,\n",
       "                                                              100],\n",
       "                                        'n_estimators': [100, 200, 300, 400,\n",
       "                                                         500, 600, 700, 800,\n",
       "                                                         900, 1000, 1100,\n",
       "                                                         1200]},\n",
       "                   pre_dispatch='2*n_jobs', random_state=1, refit=True,\n",
       "                   return_train_score=False, scoring='neg_mean_squared_error',\n",
       "                   verbose=2)"
      ]
     },
     "execution_count": 94,
     "metadata": {},
     "output_type": "execute_result"
    }
   ],
   "source": [
    "rf_random_model.fit(x_train, y_train)\n"
   ]
  },
  {
   "cell_type": "code",
   "execution_count": null,
   "metadata": {},
   "outputs": [],
   "source": [
    "rf_random_model.best_params_\n"
   ]
  },
  {
   "cell_type": "code",
   "execution_count": null,
   "metadata": {},
   "outputs": [],
   "source": [
    "predictions = rf_random_model.predict(x_test)\n"
   ]
  },
  {
   "cell_type": "code",
   "execution_count": null,
   "metadata": {},
   "outputs": [],
   "source": [
    "plt.scatter(y_test, predictions, alpha = 0.5)\n",
    "plt.xlabel('y_test')\n",
    "plt.ylabel('predictions')"
   ]
  },
  {
   "cell_type": "code",
   "execution_count": null,
   "metadata": {},
   "outputs": [],
   "source": [
    "print('MAE: ', metrics.mean_absolute_error(y_test, predictions) )\n",
    "print('MSE: ', metrics.mean_squared_error(y_test, predictions))\n",
    "print('RMSE: ', np.sqrt(metrics.mean_squared_error(y_test, predictions)))\n",
    "\n",
    "print('r2_score: ', metrics.r2_score(y_test, predictions))"
   ]
  },
  {
   "cell_type": "code",
   "execution_count": null,
   "metadata": {},
   "outputs": [],
   "source": []
  },
  {
   "cell_type": "code",
   "execution_count": null,
   "metadata": {},
   "outputs": [],
   "source": []
  },
  {
   "cell_type": "code",
   "execution_count": 69,
   "metadata": {},
   "outputs": [
    {
     "name": "stderr",
     "output_type": "stream",
     "text": [
      "C:\\ProgramData\\Anaconda3\\lib\\site-packages\\sklearn\\ensemble\\forest.py:245: FutureWarning: The default value of n_estimators will change from 10 in version 0.20 to 100 in 0.22.\n",
      "  \"10 in version 0.20 to 100 in 0.22.\", FutureWarning)\n"
     ]
    },
    {
     "data": {
      "text/plain": [
       "ExtraTreesRegressor(bootstrap=False, criterion='mse', max_depth=None,\n",
       "                    max_features='auto', max_leaf_nodes=None,\n",
       "                    min_impurity_decrease=0.0, min_impurity_split=None,\n",
       "                    min_samples_leaf=1, min_samples_split=2,\n",
       "                    min_weight_fraction_leaf=0.0, n_estimators=10, n_jobs=None,\n",
       "                    oob_score=False, random_state=None, verbose=0,\n",
       "                    warm_start=False)"
      ]
     },
     "execution_count": 69,
     "metadata": {},
     "output_type": "execute_result"
    }
   ],
   "source": [
    "## Important features using ExtraTreesRegressor\n",
    "\n",
    "from sklearn.ensemble import ExtraTreesRegressor\n",
    "sel = ExtraTreesRegressor()\n",
    "sel.fit(x,y)"
   ]
  },
  {
   "cell_type": "code",
   "execution_count": 70,
   "metadata": {},
   "outputs": [
    {
     "name": "stdout",
     "output_type": "stream",
     "text": [
      "[0.22122028 0.14400818 0.05409802 0.0262738  0.01966988 0.02264324\n",
      " 0.02013805 0.14070117 0.01848839 0.0070967  0.00184591 0.01745006\n",
      " 0.14808177 0.01798758 0.00082424 0.00404221 0.00433843 0.05548131\n",
      " 0.00049655 0.0023659  0.00363525 0.00916329 0.00416309 0.01621186\n",
      " 0.01258665 0.0002751  0.0267131 ]\n"
     ]
    }
   ],
   "source": [
    "print(sel.feature_importances_)\n"
   ]
  },
  {
   "cell_type": "code",
   "execution_count": 73,
   "metadata": {},
   "outputs": [
    {
     "data": {
      "image/png": "[encoded data removed]",
      "text/plain": [
       "<Figure size 1080x720 with 1 Axes>"
      ]
     },
     "metadata": {
      "needs_background": "light"
     },
     "output_type": "display_data"
    }
   ],
   "source": [
    "import matplotlib.pyplot as plt\n",
    "plt.figure(figsize = (15,10))\n",
    "feature_imp = pd.Series(sel.feature_importances_, index = x.columns)\n",
    "feature_imp.nlargest(20).plot(kind = 'barh')\n",
    "plt.show()"
   ]
  },
  {
   "cell_type": "code",
   "execution_count": null,
   "metadata": {},
   "outputs": [],
   "source": []
  }
 ],
 "metadata": {
  "kernelspec": {
   "display_name": "Python 3",
   "language": "python",
   "name": "python3"
  },
  "language_info": {
   "codemirror_mode": {
    "name": "ipython",
    "version": 3
   },
   "file_extension": ".py",
   "mimetype": "text/x-python",
   "name": "python",
   "nbconvert_exporter": "python",
   "pygments_lexer": "ipython3",
   "version": "3.7.4"
  }
 },
 "nbformat": 4,
 "nbformat_minor": 2
}
