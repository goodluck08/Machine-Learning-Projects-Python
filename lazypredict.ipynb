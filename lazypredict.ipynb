{
 "cells": [
  {
   "cell_type": "code",
   "execution_count": null,
   "metadata": {},
   "outputs": [],
   "source": [
    "#!pip install lazypredict\n"
   ]
  },
  {
   "cell_type": "markdown",
   "metadata": {},
   "source": [
    "# LazyPredict can be a good choice for several use cases where you need to quickly build and evaluate machine learning models with minimal code, such as:"
   ]
  },
  {
   "cell_type": "raw",
   "metadata": {},
   "source": [
    "Exploratory data analysis: LazyPredict can be used to quickly explore and analyze your datasets by training and testing multiple models on the data and getting a summary of their performance metrics.\n",
    "\n",
    "Model selection and tuning: LazyPredict can help you compare and select the best machine learning model for your task by testing multiple models and comparing their performance metrics.\n",
    "\n",
    "Rapid prototyping: LazyPredict can be used for rapid prototyping of machine learning models, where you want to quickly test the feasibility of a machine learning solution for a problem.\n",
    "\n",
    "Educational purposes: LazyPredict can be a useful tool for teaching and learning machine learning concepts and techniques, as it allows you to experiment with different models and algorithms without having to write a lot of code."
   ]
  },
  {
   "cell_type": "code",
   "execution_count": null,
   "metadata": {},
   "outputs": [],
   "source": []
  },
  {
   "cell_type": "code",
   "execution_count": 2,
   "metadata": {},
   "outputs": [],
   "source": [
    "### importing lazypredict library\n",
    "import lazypredict\n",
    "### importing LazyClassifier for classification problem\n",
    "from lazypredict.Supervised import LazyClassifier\n"
   ]
  },
  {
   "cell_type": "code",
   "execution_count": 3,
   "metadata": {},
   "outputs": [],
   "source": [
    "\n",
    "### importing breast Cancer Dataset from sklearn\n",
    "from sklearn.datasets import load_breast_cancer\n",
    "### spliting dataset into training and testing part\n",
    "from sklearn.model_selection import train_test_split\n"
   ]
  },
  {
   "cell_type": "code",
   "execution_count": 4,
   "metadata": {},
   "outputs": [],
   "source": [
    "### storing dataset in data variable\n",
    "data = load_breast_cancer()"
   ]
  },
  {
   "cell_type": "code",
   "execution_count": 5,
   "metadata": {},
   "outputs": [],
   "source": [
    "### separating dataset into dependent and independent features\n",
    "X = data.data\n",
    "y = data.target"
   ]
  },
  {
   "cell_type": "code",
   "execution_count": 6,
   "metadata": {},
   "outputs": [],
   "source": [
    "### splitting dataset into training and testing part(50% training and 50% testing)\n",
    "X_train, X_test, y_train, y_test = train_test_split(X, y, test_size=.5, random_state =123)"
   ]
  },
  {
   "cell_type": "code",
   "execution_count": 7,
   "metadata": {},
   "outputs": [],
   "source": [
    "clf = LazyClassifier(verbose=0, ignore_warnings=True, custom_metric = None)\n"
   ]
  },
  {
   "cell_type": "code",
   "execution_count": 8,
   "metadata": {},
   "outputs": [
    {
     "name": "stderr",
     "output_type": "stream",
     "text": [
      "100%|██████████████████████████████████████████████████████████████████████████████████| 29/29 [00:01<00:00, 26.98it/s]"
     ]
    },
    {
     "name": "stdout",
     "output_type": "stream",
     "text": [
      "                               Accuracy  Balanced Accuracy  ROC AUC  F1 Score  \\\n",
      "Model                                                                           \n",
      "LinearSVC                          0.99               0.99     0.99      0.99   \n",
      "Perceptron                         0.99               0.98     0.98      0.99   \n",
      "LogisticRegression                 0.99               0.98     0.98      0.99   \n",
      "SVC                                0.98               0.98     0.98      0.98   \n",
      "XGBClassifier                      0.98               0.98     0.98      0.98   \n",
      "LabelPropagation                   0.98               0.97     0.97      0.98   \n",
      "LabelSpreading                     0.98               0.97     0.97      0.98   \n",
      "BaggingClassifier                  0.97               0.97     0.97      0.97   \n",
      "PassiveAggressiveClassifier        0.98               0.97     0.97      0.98   \n",
      "SGDClassifier                      0.98               0.97     0.97      0.98   \n",
      "RandomForestClassifier             0.97               0.97     0.97      0.97   \n",
      "CalibratedClassifierCV             0.98               0.97     0.97      0.98   \n",
      "LGBMClassifier                     0.97               0.97     0.97      0.97   \n",
      "QuadraticDiscriminantAnalysis      0.96               0.97     0.97      0.97   \n",
      "ExtraTreesClassifier               0.97               0.96     0.96      0.97   \n",
      "RidgeClassifierCV                  0.97               0.96     0.96      0.97   \n",
      "RidgeClassifier                    0.97               0.96     0.96      0.97   \n",
      "AdaBoostClassifier                 0.96               0.96     0.96      0.96   \n",
      "KNeighborsClassifier               0.96               0.96     0.96      0.96   \n",
      "BernoulliNB                        0.95               0.95     0.95      0.95   \n",
      "LinearDiscriminantAnalysis         0.96               0.95     0.95      0.96   \n",
      "GaussianNB                         0.95               0.95     0.95      0.95   \n",
      "NuSVC                              0.95               0.94     0.94      0.95   \n",
      "ExtraTreeClassifier                0.94               0.93     0.93      0.94   \n",
      "NearestCentroid                    0.95               0.93     0.93      0.95   \n",
      "DecisionTreeClassifier             0.93               0.93     0.93      0.93   \n",
      "DummyClassifier                    0.64               0.50     0.50      0.50   \n",
      "\n",
      "                               Time Taken  \n",
      "Model                                      \n",
      "LinearSVC                            0.01  \n",
      "Perceptron                           0.01  \n",
      "LogisticRegression                   0.02  \n",
      "SVC                                  0.01  \n",
      "XGBClassifier                        0.06  \n",
      "LabelPropagation                     0.02  \n",
      "LabelSpreading                       0.02  \n",
      "BaggingClassifier                    0.04  \n",
      "PassiveAggressiveClassifier          0.01  \n",
      "SGDClassifier                        0.01  \n",
      "RandomForestClassifier               0.23  \n",
      "CalibratedClassifierCV               0.03  \n",
      "LGBMClassifier                       0.09  \n",
      "QuadraticDiscriminantAnalysis        0.01  \n",
      "ExtraTreesClassifier                 0.11  \n",
      "RidgeClassifierCV                    0.01  \n",
      "RidgeClassifier                      0.01  \n",
      "AdaBoostClassifier                   0.13  \n",
      "KNeighborsClassifier                 0.10  \n",
      "BernoulliNB                          0.01  \n",
      "LinearDiscriminantAnalysis           0.04  \n",
      "GaussianNB                           0.01  \n",
      "NuSVC                                0.02  \n",
      "ExtraTreeClassifier                  0.01  \n",
      "NearestCentroid                      0.01  \n",
      "DecisionTreeClassifier               0.01  \n",
      "DummyClassifier                      0.01  \n"
     ]
    },
    {
     "name": "stderr",
     "output_type": "stream",
     "text": [
      "\n"
     ]
    }
   ],
   "source": [
    "### fitting data in LazyClassifier\n",
    "models,predictions = clf.fit(X_train, X_test, y_train, y_test)\n",
    "### lets check which model did better on Breast Cancer Dataset\n",
    "print(models)"
   ]
  },
  {
   "cell_type": "code",
   "execution_count": 11,
   "metadata": {},
   "outputs": [
    {
     "data": {
      "text/html": [
       "<div>\n",
       "<style scoped>\n",
       "    .dataframe tbody tr th:only-of-type {\n",
       "        vertical-align: middle;\n",
       "    }\n",
       "\n",
       "    .dataframe tbody tr th {\n",
       "        vertical-align: top;\n",
       "    }\n",
       "\n",
       "    .dataframe thead th {\n",
       "        text-align: right;\n",
       "    }\n",
       "</style>\n",
       "<table border=\"1\" class=\"dataframe\">\n",
       "  <thead>\n",
       "    <tr style=\"text-align: right;\">\n",
       "      <th></th>\n",
       "      <th>Survived</th>\n",
       "      <th>Age</th>\n",
       "      <th>SibSp</th>\n",
       "      <th>Parch</th>\n",
       "      <th>Fare</th>\n",
       "      <th>male</th>\n",
       "      <th>Q</th>\n",
       "      <th>S</th>\n",
       "      <th>2</th>\n",
       "      <th>3</th>\n",
       "    </tr>\n",
       "  </thead>\n",
       "  <tbody>\n",
       "    <tr>\n",
       "      <th>0</th>\n",
       "      <td>0</td>\n",
       "      <td>22.00</td>\n",
       "      <td>1</td>\n",
       "      <td>0</td>\n",
       "      <td>7.25</td>\n",
       "      <td>1</td>\n",
       "      <td>0</td>\n",
       "      <td>1</td>\n",
       "      <td>0</td>\n",
       "      <td>1</td>\n",
       "    </tr>\n",
       "    <tr>\n",
       "      <th>1</th>\n",
       "      <td>1</td>\n",
       "      <td>38.00</td>\n",
       "      <td>1</td>\n",
       "      <td>0</td>\n",
       "      <td>71.28</td>\n",
       "      <td>0</td>\n",
       "      <td>0</td>\n",
       "      <td>0</td>\n",
       "      <td>0</td>\n",
       "      <td>0</td>\n",
       "    </tr>\n",
       "    <tr>\n",
       "      <th>2</th>\n",
       "      <td>1</td>\n",
       "      <td>26.00</td>\n",
       "      <td>0</td>\n",
       "      <td>0</td>\n",
       "      <td>7.92</td>\n",
       "      <td>0</td>\n",
       "      <td>0</td>\n",
       "      <td>1</td>\n",
       "      <td>0</td>\n",
       "      <td>1</td>\n",
       "    </tr>\n",
       "    <tr>\n",
       "      <th>3</th>\n",
       "      <td>1</td>\n",
       "      <td>35.00</td>\n",
       "      <td>1</td>\n",
       "      <td>0</td>\n",
       "      <td>53.10</td>\n",
       "      <td>0</td>\n",
       "      <td>0</td>\n",
       "      <td>1</td>\n",
       "      <td>0</td>\n",
       "      <td>0</td>\n",
       "    </tr>\n",
       "    <tr>\n",
       "      <th>4</th>\n",
       "      <td>0</td>\n",
       "      <td>35.00</td>\n",
       "      <td>0</td>\n",
       "      <td>0</td>\n",
       "      <td>8.05</td>\n",
       "      <td>1</td>\n",
       "      <td>0</td>\n",
       "      <td>1</td>\n",
       "      <td>0</td>\n",
       "      <td>1</td>\n",
       "    </tr>\n",
       "  </tbody>\n",
       "</table>\n",
       "</div>"
      ],
      "text/plain": [
       "   Survived   Age  SibSp  Parch  Fare  male  Q  S  2  3\n",
       "0         0 22.00      1      0  7.25     1  0  1  0  1\n",
       "1         1 38.00      1      0 71.28     0  0  0  0  0\n",
       "2         1 26.00      0      0  7.92     0  0  1  0  1\n",
       "3         1 35.00      1      0 53.10     0  0  1  0  0\n",
       "4         0 35.00      0      0  8.05     1  0  1  0  1"
      ]
     },
     "execution_count": 11,
     "metadata": {},
     "output_type": "execute_result"
    }
   ],
   "source": [
    "import pandas as pd\n",
    "tit_data = pd.read_csv('C:/Users/itspark/Documents/Analytics/ds code/tit_data.csv')\n",
    "tit_data.head()"
   ]
  },
  {
   "cell_type": "code",
   "execution_count": 12,
   "metadata": {},
   "outputs": [],
   "source": [
    "X =tit_data.drop(\"Survived\",axis=1)\n",
    "y = tit_data[\"Survived\"]"
   ]
  },
  {
   "cell_type": "code",
   "execution_count": 13,
   "metadata": {},
   "outputs": [],
   "source": [
    "X_train, X_test, y_train, y_test = train_test_split(X, y, test_size=.5, random_state =123)"
   ]
  },
  {
   "cell_type": "code",
   "execution_count": 14,
   "metadata": {},
   "outputs": [],
   "source": [
    "titanic_clf = LazyClassifier(verbose=0, ignore_warnings=True, custom_metric = None)\n"
   ]
  },
  {
   "cell_type": "code",
   "execution_count": 15,
   "metadata": {},
   "outputs": [
    {
     "name": "stderr",
     "output_type": "stream",
     "text": [
      "100%|██████████████████████████████████████████████████████████████████████████████████| 29/29 [00:00<00:00, 30.42it/s]\n"
     ]
    }
   ],
   "source": [
    "models1,predictions1 = titanic_clf.fit(X_train, X_test, y_train, y_test)\n"
   ]
  },
  {
   "cell_type": "code",
   "execution_count": 16,
   "metadata": {},
   "outputs": [
    {
     "name": "stdout",
     "output_type": "stream",
     "text": [
      "                               Accuracy  Balanced Accuracy  ROC AUC  F1 Score  \\\n",
      "Model                                                                           \n",
      "RandomForestClassifier             0.81               0.79     0.79      0.80   \n",
      "QuadraticDiscriminantAnalysis      0.79               0.78     0.78      0.79   \n",
      "SVC                                0.79               0.77     0.77      0.79   \n",
      "LGBMClassifier                     0.78               0.77     0.77      0.78   \n",
      "ExtraTreeClassifier                0.77               0.76     0.76      0.77   \n",
      "LabelSpreading                     0.78               0.76     0.76      0.77   \n",
      "LabelPropagation                   0.77               0.76     0.76      0.77   \n",
      "XGBClassifier                      0.77               0.76     0.76      0.77   \n",
      "ExtraTreesClassifier               0.76               0.76     0.76      0.76   \n",
      "NuSVC                              0.78               0.75     0.75      0.77   \n",
      "AdaBoostClassifier                 0.76               0.75     0.75      0.76   \n",
      "SGDClassifier                      0.76               0.75     0.75      0.76   \n",
      "LogisticRegression                 0.76               0.74     0.74      0.76   \n",
      "KNeighborsClassifier               0.77               0.74     0.74      0.76   \n",
      "GaussianNB                         0.76               0.74     0.74      0.76   \n",
      "NearestCentroid                    0.75               0.74     0.74      0.75   \n",
      "BaggingClassifier                  0.76               0.74     0.74      0.75   \n",
      "LinearSVC                          0.76               0.74     0.74      0.75   \n",
      "CalibratedClassifierCV             0.76               0.74     0.74      0.75   \n",
      "LinearDiscriminantAnalysis         0.76               0.74     0.74      0.75   \n",
      "RidgeClassifier                    0.76               0.74     0.74      0.75   \n",
      "RidgeClassifierCV                  0.76               0.74     0.74      0.75   \n",
      "Perceptron                         0.76               0.73     0.73      0.75   \n",
      "BernoulliNB                        0.75               0.73     0.73      0.75   \n",
      "DecisionTreeClassifier             0.74               0.73     0.73      0.74   \n",
      "PassiveAggressiveClassifier        0.65               0.67     0.67      0.66   \n",
      "DummyClassifier                    0.59               0.50     0.50      0.44   \n",
      "\n",
      "                               Time Taken  \n",
      "Model                                      \n",
      "RandomForestClassifier               0.19  \n",
      "QuadraticDiscriminantAnalysis        0.01  \n",
      "SVC                                  0.03  \n",
      "LGBMClassifier                       0.07  \n",
      "ExtraTreeClassifier                  0.01  \n",
      "LabelSpreading                       0.02  \n",
      "LabelPropagation                     0.02  \n",
      "XGBClassifier                        0.07  \n",
      "ExtraTreesClassifier                 0.13  \n",
      "NuSVC                                0.03  \n",
      "AdaBoostClassifier                   0.09  \n",
      "SGDClassifier                        0.01  \n",
      "LogisticRegression                   0.01  \n",
      "KNeighborsClassifier                 0.02  \n",
      "GaussianNB                           0.01  \n",
      "NearestCentroid                      0.01  \n",
      "BaggingClassifier                    0.03  \n",
      "LinearSVC                            0.02  \n",
      "CalibratedClassifierCV               0.07  \n",
      "LinearDiscriminantAnalysis           0.01  \n",
      "RidgeClassifier                      0.01  \n",
      "RidgeClassifierCV                    0.01  \n",
      "Perceptron                           0.01  \n",
      "BernoulliNB                          0.01  \n",
      "DecisionTreeClassifier               0.01  \n",
      "PassiveAggressiveClassifier          0.01  \n",
      "DummyClassifier                      0.01  \n"
     ]
    }
   ],
   "source": [
    "print(models1)"
   ]
  },
  {
   "cell_type": "code",
   "execution_count": 17,
   "metadata": {},
   "outputs": [],
   "source": [
    "from lazypredict.Supervised import LazyRegressor\n",
    "from sklearn import datasets\n",
    "from sklearn.utils import shuffle\n",
    "import numpy as np\n"
   ]
  },
  {
   "cell_type": "code",
   "execution_count": 19,
   "metadata": {},
   "outputs": [],
   "source": [
    "boston = datasets.load_boston()\n",
    "X, y = shuffle(boston.data, boston.target, random_state=13)\n",
    "X = X.astype(np.float32)\n",
    "offset = int(X.shape[0] * 0.9)"
   ]
  },
  {
   "cell_type": "code",
   "execution_count": 20,
   "metadata": {},
   "outputs": [
    {
     "name": "stderr",
     "output_type": "stream",
     "text": [
      "100%|██████████████████████████████████████████████████████████████████████████████████| 42/42 [00:03<00:00, 10.96it/s]\n"
     ]
    }
   ],
   "source": [
    "X_train, y_train = X[:offset], y[:offset]\n",
    "X_test, y_test = X[offset:], y[offset:]\n",
    "reg = LazyRegressor(verbose=0,ignore_warnings=False, custom_metric=None )\n",
    "models,predictions = reg.fit(X_train, X_test, y_train, y_test)"
   ]
  },
  {
   "cell_type": "code",
   "execution_count": 21,
   "metadata": {},
   "outputs": [
    {
     "name": "stdout",
     "output_type": "stream",
     "text": [
      "                               Adjusted R-Squared  R-Squared  RMSE  Time Taken\n",
      "Model                                                                         \n",
      "SVR                                          0.83       0.88  2.62        0.03\n",
      "BaggingRegressor                             0.83       0.88  2.63        0.04\n",
      "NuSVR                                        0.82       0.86  2.76        0.03\n",
      "RandomForestRegressor                        0.81       0.86  2.78        0.36\n",
      "XGBRegressor                                 0.81       0.86  2.79        0.11\n",
      "GradientBoostingRegressor                    0.81       0.86  2.84        0.14\n",
      "ExtraTreesRegressor                          0.79       0.84  2.98        0.24\n",
      "AdaBoostRegressor                            0.78       0.83  3.04        0.10\n",
      "HistGradientBoostingRegressor                0.77       0.83  3.06        0.49\n",
      "PoissonRegressor                             0.77       0.83  3.11        0.02\n",
      "LGBMRegressor                                0.77       0.83  3.11        0.09\n",
      "KNeighborsRegressor                          0.77       0.83  3.12        0.01\n",
      "DecisionTreeRegressor                        0.65       0.74  3.79        0.02\n",
      "MLPRegressor                                 0.65       0.74  3.80        0.41\n",
      "HuberRegressor                               0.64       0.74  3.84        0.03\n",
      "GammaRegressor                               0.64       0.73  3.88        0.01\n",
      "LinearSVR                                    0.62       0.72  3.96        0.01\n",
      "RidgeCV                                      0.62       0.72  3.97        0.01\n",
      "BayesianRidge                                0.62       0.72  3.97        0.01\n",
      "Ridge                                        0.62       0.72  3.97        0.01\n",
      "TransformedTargetRegressor                   0.62       0.72  3.97        0.01\n",
      "LinearRegression                             0.62       0.72  3.97        0.01\n",
      "ElasticNetCV                                 0.62       0.72  3.98        0.08\n",
      "LassoCV                                      0.62       0.72  3.98        0.07\n",
      "LassoLarsIC                                  0.62       0.72  3.98        0.01\n",
      "LassoLarsCV                                  0.62       0.72  3.98        0.02\n",
      "Lars                                         0.61       0.72  3.99        0.01\n",
      "LarsCV                                       0.61       0.71  4.02        0.04\n",
      "SGDRegressor                                 0.60       0.70  4.07        0.02\n",
      "TweedieRegressor                             0.59       0.70  4.12        0.01\n",
      "ElasticNet                                   0.58       0.69  4.16        0.01\n",
      "Lasso                                        0.54       0.66  4.35        0.01\n",
      "RANSACRegressor                              0.53       0.65  4.41        0.11\n",
      "OrthogonalMatchingPursuitCV                  0.45       0.59  4.78        0.01\n",
      "PassiveAggressiveRegressor                   0.37       0.54  5.09        0.01\n",
      "GaussianProcessRegressor                     0.23       0.43  5.65        0.06\n",
      "OrthogonalMatchingPursuit                    0.16       0.38  5.89        0.01\n",
      "ExtraTreeRegressor                           0.08       0.32  6.17        0.01\n",
      "QuantileRegressor                           -0.35      -0.00  7.49        1.09\n",
      "DummyRegressor                              -0.38      -0.02  7.56        0.01\n",
      "LassoLars                                   -0.38      -0.02  7.56        0.01\n",
      "KernelRidge                                -11.50      -8.25 22.74        0.01\n"
     ]
    }
   ],
   "source": [
    "print(models)"
   ]
  },
  {
   "cell_type": "markdown",
   "metadata": {},
   "source": [
    "# However, LazyPredict may not be suitable for more complex machine learning tasks where you need more control over the model training and evaluation process, such as:\n"
   ]
  },
  {
   "cell_type": "raw",
   "metadata": {},
   "source": [
    "\n",
    "Large datasets: LazyPredict may not be able to handle large datasets efficiently, as it trains and tests multiple models on the data, which can be computationally expensive.\n",
    "\n",
    "Custom models: LazyPredict may not support all types of machine learning models and algorithms, so if you need to use a custom or specialized model, you may need to implement it manually.\n",
    "\n",
    "Fine-tuning models: LazyPredict may not provide fine-grained control over the model training and hyperparameter tuning process, so if you need to optimize a model for specific performance metrics, you may need to do it manually."
   ]
  },
  {
   "cell_type": "code",
   "execution_count": null,
   "metadata": {},
   "outputs": [],
   "source": []
  }
 ],
 "metadata": {
  "kernelspec": {
   "display_name": "Python 3 (ipykernel)",
   "language": "python",
   "name": "python3"
  },
  "language_info": {
   "codemirror_mode": {
    "name": "ipython",
    "version": 3
   },
   "file_extension": ".py",
   "mimetype": "text/x-python",
   "name": "python",
   "nbconvert_exporter": "python",
   "pygments_lexer": "ipython3",
   "version": "3.9.12"
  }
 },
 "nbformat": 4,
 "nbformat_minor": 2
}
